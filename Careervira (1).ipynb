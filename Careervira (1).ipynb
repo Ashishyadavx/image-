{
 "cells": [
  {
   "cell_type": "code",
   "execution_count": 1,
   "id": "938d566c",
   "metadata": {},
   "outputs": [],
   "source": [
    "import numpy as np\n",
    "import pandas as pd\n",
    "import requests"
   ]
  },
  {
   "cell_type": "code",
   "execution_count": 2,
   "id": "8de8524f",
   "metadata": {},
   "outputs": [
    {
     "name": "stdout",
     "output_type": "stream",
     "text": [
      "Requirement already satisfied: bs4 in c:\\python312\\lib\\site-packages (0.0.2)\n",
      "Requirement already satisfied: beautifulsoup4 in c:\\python312\\lib\\site-packages (from bs4) (4.12.3)\n",
      "Requirement already satisfied: soupsieve>1.2 in c:\\python312\\lib\\site-packages (from beautifulsoup4->bs4) (2.5)\n"
     ]
    },
    {
     "name": "stderr",
     "output_type": "stream",
     "text": [
      "\n",
      "[notice] A new release of pip is available: 24.0 -> 24.2\n",
      "[notice] To update, run: python.exe -m pip install --upgrade pip\n"
     ]
    }
   ],
   "source": [
    "!pip install bs4"
   ]
  },
  {
   "cell_type": "code",
   "execution_count": 3,
   "id": "a1682137",
   "metadata": {},
   "outputs": [],
   "source": [
    "from bs4 import BeautifulSoup"
   ]
  },
  {
   "cell_type": "code",
   "execution_count": 9,
   "id": "b4fbcb72",
   "metadata": {},
   "outputs": [],
   "source": [
    "url2='https://talentedge.com/golden-gate-university/doctor-of-business-administration'"
   ]
  },
  {
   "cell_type": "code",
   "execution_count": 10,
   "id": "36359038",
   "metadata": {},
   "outputs": [],
   "source": [
    "page1=requests.get(url2)\n",
    "htmlcontent=page1.content"
   ]
  },
  {
   "cell_type": "code",
   "execution_count": 11,
   "id": "68c4b62d",
   "metadata": {},
   "outputs": [],
   "source": [
    "soup2=BeautifulSoup(htmlcontent,'html.parser')"
   ]
  },
  {
   "cell_type": "code",
   "execution_count": 12,
   "id": "1c313cd0",
   "metadata": {},
   "outputs": [],
   "source": [
    "title=soup2.find('title')\n",
    "title=title.text\n"
   ]
  },
  {
   "cell_type": "code",
   "execution_count": 29,
   "id": "5b9d97c9",
   "metadata": {},
   "outputs": [
    {
     "name": "stdout",
     "output_type": "stream",
     "text": [
      "Go beyond the boundaries of your job, without quitting it. Be a sought after specialist with the same doctorate degree awarded on campus. Earn the ‘Dr’ title after successfully completing the program. The Doctor of Business Administration (DBA) program is designed for professionals who want to further their career with the most advanced business degree program GGU offers. The DBA program addresses the learning needs and objectives of senior business managers, consultants and university professors. Its primary objective is to produce graduates who can contribute to the advancement of their professions and to the expansion of knowledge and awareness of contemporary strategic issues and practices.\n",
      "Our curriculum has a three-tiered focus. Students examine current theories, practices, and issues in business; train in research methods; and study the relationships between business and social and global issues. We believe doctoral students must be adept in all these areas to be successful contributors to the expansion of knowledge and improvement of business practices. For the dissertation, students conduct original research on a topic of current importance and personal interest. The dissertation should impact and help illuminate the strategic issues they face in their professions.\n",
      "The program encourages students to accept the added responsibility of a shared commitment to the advancement of their professions and to upholding the highest ethical standards in the private or public sector.\n",
      "Go beyond the boundaries of your job, without quitting it. Be a sought after specialist with the same doctorate degree awarded on campus. Earn the ‘Dr’ title after successfully completing the program. The Doctor of Business Administration (DBA) program is designed for professionals who want to further their career with the most advanced business degree progr\n"
     ]
    }
   ],
   "source": [
    "p_tags = soup2.find('div', class_='pl-aboutus').find_all('p')\n",
    "\n",
    "# Print the text of each p tag after removing any a tags\n",
    "for p in p_tags:\n",
    "    for a in p.find_all('a'):\n",
    "        a.decompose()\n",
    "    para = p.text.strip()\n",
    "    print(para)"
   ]
  },
  {
   "cell_type": "code",
   "execution_count": 44,
   "id": "906ca675",
   "metadata": {},
   "outputs": [
    {
     "name": "stdout",
     "output_type": "stream",
     "text": [
      "Duration: 36 Months\n",
      "Start Date: 15 Feb, 2024\n"
     ]
    }
   ],
   "source": [
    "duration = soup2.find('p', text=lambda t: t and 'Duration:' in t).text.strip()\n",
    "duration = duration.replace('Duration: ', '')\n",
    "\n",
    "# Find the start date\n",
    "start_date = soup2.find('p', text=lambda t: t and 'Feb' in t).text.strip()\n",
    "\n",
    "print(f\"Duration: {duration}\")\n",
    "print(f\"Start Date: {start_date}\")"
   ]
  },
  {
   "cell_type": "code",
   "execution_count": 55,
   "id": "e1991c3a",
   "metadata": {},
   "outputs": [
    {
     "name": "stdout",
     "output_type": "stream",
     "text": [
      "['Foundation (12 Credits)', 'Concentration (12 Credits)', 'Final dissertation (32 Credits)']\n"
     ]
    }
   ],
   "source": [
    "# Find the foundation, concentration, and final dissertation tabs\n",
    "foundation_tab = soup2.find('a', href=\"#syl-tab1\").text.strip()\n",
    "concentration_tab = soup2.find('a', href=\"#syl-tab2\").text.strip()\n",
    "final_dissertation_tab = soup2.find('a', href=\"#syl-tab3\").text.strip()\n",
    "\n",
    "# Store the syllabus items into a list\n",
    "syllabus = [foundation_tab, concentration_tab, final_dissertation_tab]\n",
    "\n",
    "print(syllabus)"
   ]
  },
  {
   "cell_type": "code",
   "execution_count": 58,
   "id": "6a8dec41",
   "metadata": {},
   "outputs": [
    {
     "name": "stdout",
     "output_type": "stream",
     "text": [
      "['Applied Research', 'Concept Selection', 'Management Issues Redressal', 'Critical Decision-Making', 'Critical Thinking']\n"
     ]
    }
   ],
   "source": [
    "ul_tag = soup2.find('div', class_='key-skills-sec').find('ul')\n",
    "\n",
    "# Extract all li tags from the ul tag\n",
    "key_skills = [li.text.strip() for li in ul_tag.find_all('li')]\n",
    "\n",
    "print(key_skills)"
   ]
  },
  {
   "cell_type": "code",
   "execution_count": 64,
   "id": "0b7820a0",
   "metadata": {},
   "outputs": [
    {
     "name": "stdout",
     "output_type": "stream",
     "text": [
      "Master's Degree (or equivalent) or Bachelors Degree with 5+ years of work experience.\n"
     ]
    }
   ],
   "source": [
    "eligibility_criteria = soup2.find('div', class_='eligible-right-top-list').find('p').text.strip()\n",
    "\n",
    "print(eligibility_criteria)"
   ]
  },
  {
   "cell_type": "code",
   "execution_count": 82,
   "id": "a24ce5de",
   "metadata": {},
   "outputs": [
    {
     "name": "stdout",
     "output_type": "stream",
     "text": [
      "1226438\n"
     ]
    }
   ],
   "source": [
    "price_div = soup2.find(class_='program-details-total-pay-amt-right')\n",
    "\n",
    "# Extract the text content of the div\n",
    "price_text = price_div.get_text(strip=True)\n",
    "\n",
    "# Use regular expressions to extract the number\n",
    "INR = re.search(r'\\d+', price_text).group()\n",
    "\n",
    "print(INR)"
   ]
  },
  {
   "cell_type": "code",
   "execution_count": 78,
   "id": "077d069f",
   "metadata": {},
   "outputs": [
    {
     "name": "stdout",
     "output_type": "stream",
     "text": [
      "['Dr. Mick Mcgee', 'Dr. Judith Lee', 'Dr. Joaquin \"Jay\" Gonzalez', 'Dr. Anita Manohar', 'Prof. Marcia Ruben', 'Prof. Anthony De Leon', 'Prof. Geoffrey Ngene', 'Prof. Saida Zeidan', 'Prof. Tommy Moreno', 'Prof. Marion Moreno']\n"
     ]
    }
   ],
   "source": [
    "faculty_names = [h4.text.strip() for h4 in soup2.find_all('h4', class_='best-fname')]\n",
    "\n",
    "# Store the faculty names into a list\n",
    "faculty = faculty_names\n",
    "\n",
    "print(faculty)"
   ]
  },
  {
   "cell_type": "code",
   "execution_count": 84,
   "id": "aae99d00",
   "metadata": {},
   "outputs": [
    {
     "data": {
      "text/html": [
       "<div>\n",
       "<style scoped>\n",
       "    .dataframe tbody tr th:only-of-type {\n",
       "        vertical-align: middle;\n",
       "    }\n",
       "\n",
       "    .dataframe tbody tr th {\n",
       "        vertical-align: top;\n",
       "    }\n",
       "\n",
       "    .dataframe thead th {\n",
       "        text-align: right;\n",
       "    }\n",
       "</style>\n",
       "<table border=\"1\" class=\"dataframe\">\n",
       "  <thead>\n",
       "    <tr style=\"text-align: right;\">\n",
       "      <th></th>\n",
       "      <th>Title</th>\n",
       "      <th>Paragraph</th>\n",
       "      <th>Duration</th>\n",
       "      <th>Start Date</th>\n",
       "      <th>Syllabus</th>\n",
       "      <th>Key_skills</th>\n",
       "      <th>eligibility_criteria</th>\n",
       "      <th>INR</th>\n",
       "      <th>Faculty</th>\n",
       "    </tr>\n",
       "  </thead>\n",
       "  <tbody>\n",
       "    <tr>\n",
       "      <th>0</th>\n",
       "      <td>Doctor of business administration - TalentEdge</td>\n",
       "      <td>Go beyond the boundaries of your job, without ...</td>\n",
       "      <td>None</td>\n",
       "      <td>15 Feb, 2024</td>\n",
       "      <td>[Foundation (12 Credits), Concentration (12 Cr...</td>\n",
       "      <td>[Applied Research, Concept Selection, Manageme...</td>\n",
       "      <td>[\\n, [\\n, [&lt;span&gt;Fee Structure&lt;/span&gt;,  for], ...</td>\n",
       "      <td>1226438</td>\n",
       "      <td>[Dr. Mick Mcgee, Dr. Judith Lee, Dr. Joaquin \"...</td>\n",
       "    </tr>\n",
       "  </tbody>\n",
       "</table>\n",
       "</div>"
      ],
      "text/plain": [
       "                                            Title  \\\n",
       "0  Doctor of business administration - TalentEdge   \n",
       "\n",
       "                                           Paragraph Duration    Start Date  \\\n",
       "0  Go beyond the boundaries of your job, without ...     None  15 Feb, 2024   \n",
       "\n",
       "                                            Syllabus  \\\n",
       "0  [Foundation (12 Credits), Concentration (12 Cr...   \n",
       "\n",
       "                                          Key_skills  \\\n",
       "0  [Applied Research, Concept Selection, Manageme...   \n",
       "\n",
       "                                eligibility_criteria      INR  \\\n",
       "0  [\\n, [\\n, [<span>Fee Structure</span>,  for], ...  1226438   \n",
       "\n",
       "                                             Faculty  \n",
       "0  [Dr. Mick Mcgee, Dr. Judith Lee, Dr. Joaquin \"...  "
      ]
     },
     "execution_count": 84,
     "metadata": {},
     "output_type": "execute_result"
    }
   ],
   "source": [
    "data = {\n",
    "    \"Title\": [title],\n",
    "    \"Paragraph\": [para],\n",
    "    \"Duration\": [duration],\n",
    "    \"Start Date\": [start_date],\n",
    "    \"Syllabus\": [Syllabus],\n",
    "    \"Key_skills\": [key_skills],\n",
    "    \"eligibility_criteria\": [eligibility_criteria],\n",
    "    \"INR\": [INR],\n",
    "    \"Faculty\": [faculty]\n",
    "}\n",
    "\n",
    "# Convert the dictionary to a DataFrame\n",
    "df = pd.DataFrame(data)\n",
    "\n",
    "# Print the DataFrame\n",
    "df.head()"
   ]
  },
  {
   "cell_type": "code",
   "execution_count": null,
   "id": "0da42393",
   "metadata": {},
   "outputs": [],
   "source": [
    "# https://talentedge.com/iim-kozhikode/professional-certificate-programme-in-hr-management-and-analytics\n",
    "# https://talentedge.com/ecornell/certificate-course-data-analytics-360\n",
    "# https://talentedge.com/ecornell/certificate-course-executive-leadership\n",
    "# https://talentedge.com/ecornell/certificate-course-digital-transformation\n",
    "# https://talentedge.com/ecornell/certificate-course-human-resources-management\n",
    "# https://talentedge.com/ecornell/certificate-course-technology-leadership\n",
    "# https://talentedge.com/opjindal-global-business-school/masters-of-business-administration-opj-global-universityhttps://talentedge.com/esgci-school-of-management-paris/doctorate-of-business-administration-esgci\n",
    "# https://talentedge.com/iim-kozhikode/professional-certificate-programme-in-hr-management-and-analytics"
   ]
  },
  {
   "cell_type": "code",
   "execution_count": null,
   "id": "40089f3e",
   "metadata": {},
   "outputs": [],
   "source": []
  }
 ],
 "metadata": {
  "kernelspec": {
   "display_name": "Python 3 (ipykernel)",
   "language": "python",
   "name": "python3"
  },
  "language_info": {
   "codemirror_mode": {
    "name": "ipython",
    "version": 3
   },
   "file_extension": ".py",
   "mimetype": "text/x-python",
   "name": "python",
   "nbconvert_exporter": "python",
   "pygments_lexer": "ipython3",
   "version": "3.9.13"
  }
 },
 "nbformat": 4,
 "nbformat_minor": 5
}
