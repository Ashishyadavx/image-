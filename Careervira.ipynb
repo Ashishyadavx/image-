{
 "cells": [
  {
   "cell_type": "code",
   "execution_count": 3,
   "id": "938d566c",
   "metadata": {},
   "outputs": [],
   "source": [
    "import numpy as np\n",
    "import pandas as pd\n",
    "import requests"
   ]
  },
  {
   "cell_type": "code",
   "execution_count": 4,
   "id": "8de8524f",
   "metadata": {},
   "outputs": [
    {
     "name": "stdout",
     "output_type": "stream",
     "text": [
      "Requirement already satisfied: bs4 in c:\\python312\\lib\\site-packages (0.0.2)\n",
      "Requirement already satisfied: beautifulsoup4 in c:\\python312\\lib\\site-packages (from bs4) (4.12.3)\n",
      "Requirement already satisfied: soupsieve>1.2 in c:\\python312\\lib\\site-packages (from beautifulsoup4->bs4) (2.5)\n"
     ]
    },
    {
     "name": "stderr",
     "output_type": "stream",
     "text": [
      "\n",
      "[notice] A new release of pip is available: 24.0 -> 24.2\n",
      "[notice] To update, run: python.exe -m pip install --upgrade pip\n"
     ]
    }
   ],
   "source": [
    "!pip install bs4"
   ]
  },
  {
   "cell_type": "code",
   "execution_count": 5,
   "id": "a1682137",
   "metadata": {},
   "outputs": [],
   "source": [
    "from bs4 import BeautifulSoup"
   ]
  },
  {
   "cell_type": "code",
   "execution_count": 6,
   "id": "0e852d63",
   "metadata": {},
   "outputs": [],
   "source": [
    "url='https://talentedge.com/browse-courses'"
   ]
  },
  {
   "cell_type": "code",
   "execution_count": 7,
   "id": "9a0c6808",
   "metadata": {},
   "outputs": [],
   "source": [
    "r=requests.get(url)\n",
    "htmlContent=r.content"
   ]
  },
  {
   "cell_type": "code",
   "execution_count": 8,
   "id": "c3c5bd0f",
   "metadata": {},
   "outputs": [],
   "source": [
    "soup=BeautifulSoup(htmlContent,'html.parser')"
   ]
  },
  {
   "cell_type": "code",
   "execution_count": 9,
   "id": "290c65fb",
   "metadata": {},
   "outputs": [
    {
     "data": {
      "text/plain": [
       "[<title>Browse courses - TalentEdge</title>]"
      ]
     },
     "execution_count": 9,
     "metadata": {},
     "output_type": "execute_result"
    }
   ],
   "source": [
    "title=soup.find_all('title')\n",
    "title"
   ]
  },
  {
   "cell_type": "code",
   "execution_count": 10,
   "id": "42ca8970",
   "metadata": {},
   "outputs": [
    {
     "data": {
      "text/plain": [
       "[<p>Outcome based education for the Modern World!</p>,\n",
       " <p>Academic<br/>\n",
       "                                         Institutes</p>,\n",
       " <p>certificate<br/> &amp; Degree Courses</p>,\n",
       " <p>renowned<br/> faculty</p>,\n",
       " <p>learners</p>,\n",
       " <p><a href=\"javascript:;\" id=\"joinfree-mob\">Sign up</a></p>,\n",
       " <p><a href=\"javascript:;\"><img alt=\"arrow\" src=\"https://talentedge.com/images/arrow-left.png\"> Back </img></a>\n",
       " </p>,\n",
       " <p>Admission Open</p>,\n",
       " <p>Admission Open</p>,\n",
       " <p>Admission Open</p>,\n",
       " <p>Admission Open</p>,\n",
       " <p>Admission Open</p>,\n",
       " <p>Admission Open</p>,\n",
       " <p>Talk to our career experts</p>,\n",
       " <p class=\"mb-0\">Outcome based education for the Modern World!</p>,\n",
       " <p>Academic<br/> Institutes</p>,\n",
       " <p>certificate<br/> &amp; Degree Courses</p>,\n",
       " <p>renowned<br/> faculty</p>,\n",
       " <p>learners</p>,\n",
       " <p class=\"burger31-title\"> Top Insitutes</p>,\n",
       " <p>Admission Open</p>,\n",
       " <p>Admission Open</p>,\n",
       " <p>Admission Open</p>,\n",
       " <p>Admission Open</p>,\n",
       " <p>Admission Open</p>,\n",
       " <p>Admission Open</p>,\n",
       " <p>Admission Open</p>,\n",
       " <p class=\"range-value\"> <input id=\"amount\" readonly=\"\" type=\"text\"/></p>,\n",
       " <p>Thanks to the digital revolution in India, the mode of education has largely shifted online. From public schools to state universities, every educational entity has started offering lectures digitally. The online mode of education is even preferred by students, especially working professionals who wish to enhance their skill set and get better placements. </p>,\n",
       " <p>Considering the rise in demand for online courses, <a class=\"hyperlink-underline\" href=\"https://talentedge.com\" target=\"_blank\">Talentedge</a> has collaborated with several top institutes across the world such as the Indian Institutes of Management (IIMs), Indian Institutes of Technology, Indian Institutes of Information Technology, Cornell University, <a class=\"hyperlink-underline\" href=\"https://talentedge.com/xlri-jamshedpur/\" target=\"_blank\">XLRI Jamshedpur</a>, etc. These online certification courses are exclusively designed for working professionals aiming for skills improvement and career growth.</p>,\n",
       " <p>Indian Institutes of Management (IIMs) are institutes of management education operated by the Government of India’s Ministry of Education. Currently, we are offering executive management programs in collaboration with four of these institutes – IIM Raipur, IIM Shillong, IIM Kozhikode, and <a class=\"hyperlink-underline\" href=\"https://talentedge.com/iim-lucknow/\" target=\"_blank\">IIM Lucknow</a>. These programs are curated in such a way that every candidate can draw some value to their professional journey. Let’s talk about different IIM online courses and their substance in detail.</p>,\n",
       " <p>With the commitment to nurturing cutting-edge knowledge, promoting innovation, and creating future market leaders, <a class=\"hyperlink-underline\" href=\"https://talentedge.com/iim-shillong/\" target=\"_blank\">IIM Shillong</a> has been one of the most sought-after B-schools in India. Located in the scintillating lap of Khasi Hills, the management institute was set up with a vision of expansion and mobilization of facilities for offering good quality management education and research in India’s north-eastern region. It has been nurturing management candidates and executives to achieve their professional goals for the past many years through various IIM courses. Its association with Talentedge to offer online certificate courses is one such effort to help working professionals upgrade their skills and take the success path with ease.</p>,\n",
       " <p><a class=\"hyperlink-underline\" href=\"https://talentedge.com/human-resource-management-courses/\" target=\"_blank\">Human Resource Management (HRM)</a> is one of the most sought-after fields of study in the business world. The high dynamic domain of HR is evolving with its focus going beyond the boundaries of administrative tasks. HR executives have become the driving force of a company’s financial as well as operational aspects. Keeping in mind the transforming market scenarios, Talentedge introduces you to IIM Online Course in Human Resource Management that seeks to better your understanding of various HR roles and their significance in a candidate’s professional journey. This program is specifically designed to help professionals ameliorate their HR expertise and leadership skills.</p>,\n",
       " <p>The Indian Institute of Management, Lucknow (IIM-L) is the 4th member of the prestigious IIM fraternity. Established in 1984, the B-school has been one of the most admired centers of management studies. The evolving nature of today’s educational sphere has brought the institute into the online world. In a bid to let its distinguished legacy be enjoyed by the 21st-century market leaders, IIM Lucknow offers various online courses in association with Talentedge. The Uttar Pradesh-based institute believes in shaping its students as market leaders of the first order by imparting customized knowledge and training. Under the guidance of some of India’s foremost market mentors, IIM Lucknow’s courses let you become the masters of your fields.</p>,\n",
       " <p>Keeping pace with the needs of today’s business environment, Talentedge brings you one of the most dynamic courses in the field of marketing. Offered by IIM Lucknow, the executive program in marketing strategy is designed to prepare business leaders to understand the business spheres and make strategies accordingly. This course, in many ways, addresses various types of challenges the 21st-century corporate world is facing. </p>,\n",
       " <p>Students will learn many things during the IIM course, such as the fundamentals of marketing, strategic management, brands development, etc. The IIM Lucknow program also introduces the candidates to <a class=\"hyperlink-underline\" href=\"https://talentedge.com/learn-digital-marketing/\" target=\"_blank\">digital marketing</a> and the needs of the contemporary business world. </p>,\n",
       " <p>IIM Lucknow’s business management program is one of the most popular among today’s professionals. In the company of some of India’s eminent faculties, it’s an opportunity to hone your managerial skills. This IIM online course covers the entire spectrum of modern business theories including marketing and financial management using <a class=\"hyperlink-underline\" href=\"https://talentedge.com/ecornell/certificate-course-data-analytics-360\" target=\"_blank\">data analytics</a>.</p>,\n",
       " <p>From people management to decision-making to <a class=\"hyperlink-underline\" href=\"https://talentedge.com/blog/developing-digital-marketing-strategy/\" target=\"_blank\">digital business strategy</a>, you will be acquiring a lot of skills associated with business management. This course also deals with concepts like business ethics, logical thinking, troubleshooting, technical understanding, etc. If you are looking to take your professional career to a new height, the <a class=\"hyperlink-underline\" href=\"https://talentedge.com/iim-lucknow/executive-program-in-business-management/\" target=\"_blank\">executive program in business management</a> is just the right step to take. </p>,\n",
       " <p>Business is probably the most demanding sphere today. It involves cut-throat competition with little scope for mistakes and misjudgments. To help executives take their organizations on the correct path to excel in this highly competitive market, the IIM online course in strategic management for business excellence offers the correct training and schooling. </p>,\n",
       " <p>Along with understanding the dynamic and pertinent aspects of business strategy, candidates get acquainted with the business and economic environment. Various innovative ideas on how to better entrepreneurship ideas and leadership skills are catered to during the program. Since the business has gone global, you will also learn how to deal with challenges arising in international marketing.</p>,\n",
       " <p>Hardly any business activity is possible without a proper supply chain strategy in today’s truly international market. If a company has to have an edge over its competitors, it requires executives who can take complete care of the flow of goods and services. Understanding the high demands of such professionals, IIM Lucknow brings an executive program in supply chain management during uncertain times. </p>,\n",
       " <p>This course is designed particularly for those professionals who wish to master their apprehension of the modern business structure. The IIM online course involves <a class=\"hyperlink-underline\" href=\"https://talentedge.com/risk-management-courses\" target=\"_blank\">risk management</a> and operational planning, which are key to managing the supply chain affairs of today’s world.</p>,\n",
       " <p>With the advent of digitalization, the role of leaders has become even more prominent and challenging. Along with people, managers now have to take care of the online aspect also. This <a class=\"hyperlink-underline\" href=\"https://talentedge.com/iim-lucknow/advanced-program-leadership-digital-era\" target=\"_blank\">advanced program in leadership</a> is one such platform where you can get acquainted with various critical business functions, issues and challenges in digital transformation, basics of blockchain and artificial intelligence, etc.</p>,\n",
       " <p>Learn how to communicate with your clients and customers through technology-driven business model innovations while pursuing this IIM online course. One of the reasons this program attracts a lot of working professionals is that it is based on data-driven strategies and analytical thinking. The campus component of this course makes it even more dynamic.</p>,\n",
       " <p>IIM Kozhikode is a true success story in India’s business management education. The way it has emerged as one of the country’s most prestigious B-schools is really commendable. Located in the south Indian state of Kerala, <a class=\"hyperlink-underline\" href=\"https://talentedge.com/iim-kozhikode\" target=\"_blank\">IIM Kozhikode</a> has proudly produced some of the world’s most efficient market leaders through its comprehensive style of teaching. It has a strong network of international exchange programs for its students and faculty with some of the world’s leading institutes such as Copenhagen Business School, University of Queensland, Victoria University of Wellington, etc.</p>,\n",
       " <p>In today’s business world, understanding proper collaboration between sales and marketing functions is extremely important. Companies use the expertise of their employees to deliver products and services of superior quality. IIM Kozhikode’s <a class=\"hyperlink-underline\" href=\"https://talentedge.com/iim-kozhikode/professional-certificate-program-marketing-sales-management-iim-kozhikode\" target=\"_blank\">certificate program in Marketing and Sales Management</a> aims to make you the master of this field so that you can fulfill the demands of the modern business sphere. It’s a great opportunity for working professionals to hone their skills and advance their knowledge of the field.</p>,\n",
       " <p>Candidates will get a deeper understanding of decision-making’s role in sales and marketing, along with getting acquainted with customer relationships and marketing foundation. The IIM online course is completely market-oriented, with getting some insights into how to promote organizational growth.</p>,\n",
       " <p>One of the most relevant IIM online courses in today’s time, the <a class=\"hyperlink-underline\" href=\"https://talentedge.com/iim-kozhikode/supply-chain-strategy-management-course\" target=\"_blank\">Supply Chain Strategy and Management certificate program</a> is about preparing candidates according to the market so that they can help organizations manage their flow of goods and services. Learn how to streamline supply chain strategy in order to deliver the highest quality of product at the lowest price.</p>,\n",
       " <p>The program is all about helping candidates understand the complexities and challenges in managing the global supply chain. After the completion of the course, you will be able to figure out key obstacles and how to get a proper solution. Since the IIM Kozhikode’s course also focuses on logical thinking, troubleshooting, and technical understanding, it also helps in one’s personal development. </p>,\n",
       " <p>Getting a certificate from IIM Kozhikode in strategic management is of great value when it comes to enhancing one’s skills in organizational management. This course is even more significant in the sense that it focuses on leadership planning and the future existence of an organization. You will be able to have a clear understanding of a company’s structure and system after completing this IIM online course. </p>,\n",
       " <p>Along with a 360-degree acquaintance of the <a class=\"hyperlink-underline\" href=\"https://talentedge.com/articles/7-important-stages-strategic-management-process/\" target=\"_blank\">strategic management process</a>, the entrepreneurship skill is another aspect you will be mastering during the course. IIM Kozhikode’s subject specialists take a keen interest in prospering innovative and dynamic growth of candidates.</p>,\n",
       " <p>Be the pillar of your company’s financial growth by having a hands-on exposure to the field’s practical application. Since the market is very much prone to various forms of monetary threats, companies are constantly hunting risk management executives with a deeper understanding of the matter. You will be trained in various analytical strategies and algorithms working behind financial markets.</p>,\n",
       " <p>The IIM online course is an opportunity to explore the <a class=\"hyperlink-underline\" href=\"https://talentedge.com/talentedge/jumpstart-modern-business-masters-course\" target=\"_blank\">modern business market</a> and the relationship between risks and rewards. Understand how to manage basic challenges and minimize risks arising in a business. Some of the important aspects of the course such as equity, currency, commodity markets, credit risk modeling and credit scores, etc.</p>,\n",
       " <p>Today’s business model is based on data analysis and market statistics. It needs to be explored with proper techniques and expertise. This is where IIM Kozhikode’s professional certificate program comes into play and trains professionals according to the market needs. With the growth of business analytics, the market has seen a great rise in the demand for such personnel. </p>,\n",
       " <p>This IIM online course will open a door to huge opportunities. Get in-depth knowledge of the decision-making process based on data and numbers. During these 5 months, you will master the art of using critical concepts and research methods of business analytics. Advanced analytical techniques, market studying concepts, data processing, etc. are some of the key areas of concern during the program. </p>,\n",
       " <p>General Management executives are in high demand due to the fact that many companies look for multi-dimensional employees, especially at the managerial level. Keeping this in mind, Talentedge’s IIM online course on General Management is designed in such a way that it covers almost all leadership aspects. The program is based on four pillars of skill - visionary leadership, team building, strategic development, and conflict management. </p>,\n",
       " <p>Whether you possess these skills or are just keen to enhance them, this course is the gateway to landing in the vast arena of general management. The certificate you get after completing this course successfully will add immense value to your CV. From accounting to <a class=\"hyperlink-underline\" href=\"https://talentedge.com/supply-chain-management-courses\" target=\"_blank\">supply chain management</a> and from organizational behavior to digital strategy-making, you will experience a comprehensive set of management education.</p>,\n",
       " <p>Over the years, the way IIM Raipur has established itself as a premium institute for business education is really a story to be told. The Chhattisgarh-based institute believes in nurturing future business leaders, who are not only committed to shaping up the industry but also contribute to nation-building. The excellent methods of research and analysis used by IIM Raipur students and faculty are being praised across the globe. The B-school has a strong network of international collaborations for student exchange programs with universities and colleges from several countries including Russia, New Zealand, France, Australia, South Korea, Germany, etc.</p>,\n",
       " <p>Businesses, today, exist hanging in the midst of uncertainties, thanks to regular market crashes and cut-throat competition. This has forced companies to invest heavily in managing their finances. For this, they need people who understand the market better and help them attenuate huge financial losses. The IIM online course is exclusively for those individuals who wish to make their careers in the field of financial risk management.</p>,\n",
       " <p>Get familiar with various tools and techniques that protect a company from monetary mismanagements. This course is focused on several subjects such as risk measurement, analytical thinking, economic capital framework, etc. During these 6 months, you will get acquainted with some key aspects of financial risk management including foreign exchange risks, quantitative risk analysis, and functions and structure of financial institutions.</p>,\n",
       " <p>In a corporation, most of the work is done systematically through various projects. Learn how to identify important aspects of a corporate project life cycle while undergoing deeper training on the subject. Although project managers are needed in almost all types of organizations, conglomerates demand them in great numbers, since the bifurcation of tasks exists to a great extent there. </p>,\n",
       " <p>The IIM online course in <a class=\"hyperlink-underline\" href=\"https://talentedge.com/project-management-courses\" target=\"_blank\">Project Management</a> is one such path you can take to hone your leadership skills in managing large and complex projects with ease. During the 6-month program, you will delve deeper into the vast ocean of project budgeting, crisis management, project analytics, etc.</p>,\n",
       " <p>Finances, marketing, projects, etc. hold great importance in an organization’s success. However, what makes the backbone of a company are the people who manage these operations. In order to take proper care of their people, companies hire human resource managers. If you also take a deep interest in talking to others, listening to their issues, and managing them, this IIM online course in Human Resource Management is perfect for you. </p>,\n",
       " <p>Sharpen your skills in people management and give a generous push to your career by training in the company of some of the best educators in India. A comprehensive understanding of various HR challenges and how to solve them await you. Some of the important topics to be covered during the <a class=\"hyperlink-underline\" href=\"https://talentedge.com/iim-raipur\" target=\"_blank\">IIM Raipur</a> program are <a class=\"hyperlink-underline\" href=\"https://talentedge.com/blog/ultimate-guide-hrm-covering-basics/\" target=\"_blank\">HR fundamentals</a>, <a class=\"hyperlink-underline\" href=\"https://talentedge.com/xlri-jamshedpur/talent-management-course\" target=\"_blank\">talent management</a>, organization’s behavior concept, communication planning, etc.</p>,\n",
       " <p>The popularity of digital currencies like crypto is increasing day by day. Several countries have started using such virtual currencies. Keeping this in mind, IIM Raipur welcomes you to its online Certificate Program in <a class=\"hyperlink-underline\" href=\"https://talentedge.com/iim-raipur/executive-certificate-program-in-digital-finance\" target=\"_blank\">Digital Finance</a> to help candidates master strategic risk planning, financial regulation policy, fraud management, etc.</p>,\n",
       " <p>This IIM online course presents you with an opportunity to get a 360-degree understanding of the contemporary elements of digital and virtual modes of payment. The complete spectrum of digital finance will be imparted to participants through practical exercises and interactive sessions. </p>,\n",
       " <p>This era belongs to management executives, for they play a significant role in taking a business to the next level. General Managers are among the highest decision-making professionals in the corporate world. Those who are planning to make a career in this field are advised to sign up for Talentedge’s IIM online course that focuses on the overall development of professionals in managerial skills.</p>,\n",
       " <p><a class=\"hyperlink-underline\" href=\"https://talentedge.com/iim-raipur/executive-certificate-program-in-general-management\" target=\"_blank\">The General Management program by IIM Raipur</a> aims to enhance the leader and entrepreneur in you. Along with upskilling your analytical talent, you will learn the basics of financial and business management.</p>,\n",
       " <p>IIM Raipur’s Digital Marketing and Social Media Strategy program is designed for all those seeker souls who want to understand the rapidly transforming online world comprehensively. Through this IIM online course, you will be able to explore the dynamic sphere of digital marketing and improve your strategy-making skills.</p>,\n",
       " <p>Website design &amp; development, social media marketing, web analytics are some of the key aspects you will master during the course. The importance of content ranking, SEO promotion, Google Ads, and various challenges in the digital world will be imparted during the online program for working professionals.</p>,\n",
       " <p>In the modern generation of businesses, the role of machines and technological advancements has become extremely important. Mastering this new domain gives one an edge in the current setup. Machine Learning IIM online course by Talentedge has been a key prompter in hundreds of professionals’ careers, over the years.</p>,\n",
       " <p>Apply for this program now and get hands-on experience with R Python and spreadsheet solver. Become competent in interpreting data sets and hypothesis testing, data visualization, etc.</p>,\n",
       " <p>IIM Raipur’s executive development program in strategic management is your road to professional progress. Its primary focus is to entrust you with the most powerful strategies that help an organization achieve its business goals. You will be able to lead critical tasks and handle organizational challenges with ease after completing this IIM online course.</p>,\n",
       " <p>During these 12 months, some of the key skills you will master are strategic management, analytical thinking, decision-making, business internationalization, etc. The 6-day on-campus immersion held at IIM Raipur will be crucial in helping you make a strong network with fellow participants.</p>,\n",
       " <p>XLRI Jamshedpur is one of India’s leading business schools that have created a huge reputation in the last few decades. Established in 1949, the Xavier Labor Relations Institute holds the distinction of being the first management school of Independent India. Based in the state of Jharkhand, it has produced some of the best business minds in India and abroad. Known for its world-class course curriculum and effective way of educating students, XLRI Jamshedpur’s vision can be described in three terms: academic excellence, personal values, and social concern. </p>,\n",
       " <p>A perennial attendee in almost all rankings of the top 5 B-schools in India, the Xavier School of Management offers a range of <a class=\"hyperlink-underline\" href=\"https://talentedge.com/articles/thrive-marketing-sector/\" target=\"_blank\">market-oriented</a> programs. XLRI <a class=\"hyperlink-underline\" href=\"https://www.talentedge.com/\" target=\"_blank\">online courses</a>, in the last few years, have witnessed tremendous success, thanks to their popularity among <a class=\"hyperlink-underline\" href=\"https://talentedge.com/articles/best-weekend-courses-working-professionals/\" target=\"_blank\">working professionals</a>. </p>,\n",
       " <p>Data is the new king in today’s business environment. It guides the market growth and strategies of companies. <a class=\"hyperlink-underline\" href=\"https://talentedge.com/xlri-jamshedpur/data-science-course-python/\" target=\"_blank\">XLRI’s development program in Data Science</a> aims to school business brains for better planning with the fundamental elements of data studies. The XLRI course is committed to giving candidates a <a class=\"hyperlink-underline\" href=\"https://talentedge.com/blog/science-story-telling-data-visualization/\" target=\"_blank\">deeper understanding of data visualization</a> in <a class=\"hyperlink-underline\" href=\"https://talentedge.com/articles/data-science-tools-python-vs-r-vs-excel/\" target=\"_blank\">Excel, R, and Python</a>.</p>,\n",
       " <p>Regression and forecasting with mathematical elements such as Statistics, Linear Algebra, and Calculus are taught. This will make sure you better your planning methods. </p>,\n",
       " <p><a class=\"hyperlink-underline\" href=\"https://talentedge.com/blog/top-principles-organisation-design/\" target=\"_blank\">What’s that an organization runs on</a>? Money, of course. <a class=\"hyperlink-underline\" href=\"https://talentedge.com/blog/financial-management-modern-world/\" target=\"_blank\">Managing the finances</a> and understanding the art of investment are two of the fields where companies pay huge attention to. Learn how to analyze the financial expenditure of a company in detail during the <a class=\"hyperlink-underline\" href=\"https://talentedge.com/xlri-jamshedpur/financial-analytics-course/\" target=\"_blank\">Financial Analytics Executive Program by XLRI Jamshedpur</a>.</p>,\n",
       " <p>Some of the key elements of the XLRI online course are credit risk modeling, <a class=\"hyperlink-underline\" href=\"https://talentedge.com/machine-learning-courses/\" target=\"_blank\">machine learning</a>, explanatory data analysis, time series forecasting, etc. You will be able to advance your skills in stock market predictions by some of the eminent faculty members of XLRI Jamshedpur.</p>,\n",
       " <p>Get acquainted with the art of handling large projects with little difficulty while pursuing the <a class=\"hyperlink-underline\" href=\"https://talentedge.com/xlri-jamshedpur/project-management-course/\" target=\"_blank\">XLRI course in Project Management</a>. Don’t miss this opportunity for honing your skills in the subject. If you are struggling with taking your career to a new height, Talentedge welcomes you to experience the best form of the <a class=\"hyperlink-underline\" href=\"https://talentedge.com/project-management-courses/\" target=\"_blank\">project management program</a>.</p>,\n",
       " <p>A holistic approach to <a class=\"hyperlink-underline\" href=\"https://talentedge.com/blog/never-stop-evaluating-strategic-plan/\" target=\"_blank\">business evaluation</a> is what you will get trained with by industry experts. The XLRI Jamshedpur online course is dedicated to making you a <a class=\"hyperlink-underline\" href=\"https://talentedge.com/articles/close-projects-in-time/\" target=\"_blank\">master of project budgeting</a>, people management, decision making, etc. For candidates who are not from the IT background, this course offers customized modules that include business law concepts, forensic schedule analysis, <a class=\"hyperlink-underline\" href=\"https://talentedge.com/articles/different-sources-pave-way-financial-funding-large-corporates/\" target=\"_blank\">project financing &amp; funding alternatives</a>, etc. </p>,\n",
       " <p>Spotting talent and using employees’ expertise to the best of their abilities is what many companies struggle in. The <a class=\"hyperlink-underline\" href=\"https://talentedge.com/xlri-jamshedpur/talent-management-course/\" target=\"_blank\">Talent Management program by XLRI Jamshedpur</a> will prepare you for handling such challenges. If you are an <a class=\"hyperlink-underline\" href=\"https://talentedge.com/articles/6-qualities-highly-effective-hr-professionals/\" target=\"_blank\">HR professional</a> and are looking to <a class=\"hyperlink-underline\" href=\"https://talentedge.com/blog/10-tips-successful-talent-management-strategy/\" target=\"_blank\">develop talent management</a> skills, this course is the best way to do that.</p>,\n",
       " <p>After completing the 4.5-month program, you will master the arts of mentoring, coaching, managing employees, career planning, etc. Developing and taking care of the <a class=\"hyperlink-underline\" href=\"https://talentedge.com/articles/thinking-like-successful-business-minds/\" target=\"_blank\">best minds in your organization</a> will become a piece of cake for you after getting trained by XLRI’s <a class=\"hyperlink-underline\" href=\"https://talentedge.com/faculty/\" target=\"_blank\">highly-experienced faculty</a>.</p>,\n",
       " <p>Every <a class=\"hyperlink-underline\" href=\"https://talentedge.com/articles/steps-build-robust-business-management-strategy/\" target=\"_blank\">step in a business requires proper strategy</a>. From HR to finance and from operation to supply chain, everything is based on plannings, which are administered by middle or higher-level <a class=\"hyperlink-underline\" href=\"https://talentedge.com/blog/types-managers-roles/\" target=\"_blank\">managers</a>. Keeping in mind the greater <a class=\"hyperlink-underline\" href=\"https://talentedge.com/articles/strategic-management-need/\" target=\"_blank\">demand of strategy-makers in organizations</a>, Talentedge is offering an <a class=\"hyperlink-underline\" href=\"https://www.talentedge.com/xlri-jamshedpur/executive-development-program-strategic-management-course\" target=\"_blank\">executive development program in strategic management</a> in collaboration with XLRI Jamshedpur.</p>,\n",
       " <p>Embark on the career-defining journey with the XLRI online course. Learn and <a class=\"hyperlink-underline\" href=\"https://talentedge.com/articles/components-strategic-management/\" target=\"_blank\">explore frameworks of strategic management</a> while getting acquainted with <a class=\"hyperlink-underline\" href=\"https://talentedge.com/articles/boost-career-strategic-management/\" target=\"_blank\">various corporate strategies</a>. From entrepreneurship to corporate sustainability, you will be dealing with a <a class=\"hyperlink-underline\" href=\"https://talentedge.com/blog/strategic-planning-roadmap-business/\" target=\"_blank\">range of planning skills</a>.</p>,\n",
       " <p><a class=\"hyperlink-underline\" href=\"https://talentedge.com/articles/role-financial-manager/\" target=\"_blank\">Financial managers</a> are in high demand across fields, from IT to banking and from ed-tech to real estate. Why? Because capital and <a class=\"hyperlink-underline\" href=\"https://talentedge.com/blog/role-finance-development-economy/\" target=\"_blank\">finance play a key role in all types of businesses</a>. Enroll in <a class=\"hyperlink-underline\" href=\"https://talentedge.com/xlri-jamshedpur/financial-management-course/\" target=\"_blank\">XLRI Jamshedpur’s advanced financial management course</a> to learn the basics of asset management and handling various risks arising in business operation. It is designed particularly for those professionals who wish to take their careers to the next level.</p>,\n",
       " <p>From capital management to corporate &amp; financial restructuring and from performance evaluation to risk minimization, you will encounter various aspects of financial management. The XLRI course is an opportunity for candidates to hone their <a class=\"hyperlink-underline\" href=\"https://talentedge.com/articles/key-skills-required-effective-risk-management/\" target=\"_blank\">skills in risk management</a>, decision making, budgeting, critical thinking, etc.</p>,\n",
       " <p>The <a class=\"hyperlink-underline\" href=\"https://talentedge.com/articles/5-functions-supply-chain-management/\" target=\"_blank\">role of the supply chain</a> has always been of great substance in the business environment. In the 21st century, it has become one of the biggest driving forces of inter-region businesses. You can be one of those highly-paid people to get an opportunity to serve the job-rich field of logistics and supply chain. Apply for <a class=\"hyperlink-underline\" href=\"javascript:void(0);\">XLRI Jamshedpur’s supply chain management program</a> and enrich yourself with a deeper understanding of operation management, demand analysis &amp; forecasting, negotiation skills, warehouse management, etc.</p>,\n",
       " <p>You will be getting trained by some of the highly-experienced faculty members of Xavier Institute of Management, Jamshedpur. Concepts of leverage principle of purchasing, network analysis, procurement and purchasing principles, etc. make up the course curriculum of the XLRI online course.</p>,\n",
       " <p>Let yourself explore the <a class=\"hyperlink-underline\" href=\"https://talentedge.com/articles/must-skills-dynamic-leader-post-pandemic-world/\" target=\"_blank\">dynamic field of leadership management</a> and set forth on a decorated journey in the business world. From neurosciences to psychology and from behavioral sciences to organizational mindsets, you will confront various factors that lead to creating a healthy environment in an organization. The 8-month XLRI course is instrumental in your holistic mindfulness training so that you get ready to nurture the <a class=\"hyperlink-underline\" href=\"https://talentedge.com/blog/hrm-essence-organization/\" target=\"_blank\">human resource of your organization</a>.</p>,\n",
       " <p>After the successful completion of the <a class=\"hyperlink-underline\" href=\"https://talentedge.com/xlri-jamshedpur/executive-development-program-transformational-leadership/\" target=\"_blank\">transformational leadership online course from XLRI Jamshedpur</a>, candidates will gain mastery over conflict and bias management. The program also covers multi-tasking for productive efficiency, honing the <a class=\"hyperlink-underline\" href=\"https://talentedge.com/articles/important-leadership-traits/\" target=\"_blank\">essential leadership instrument</a>, leveraging swadharma through Yoga, etc.</p>,\n",
       " <p>Become a master of online marketing, while understanding the basics of social media strategies. Get acquainted with the advanced aspects of digital marketing and learn how to generate leads through web analysis. The XLRI online course in digital marketing paves your way to becoming an online sales expert.</p>,\n",
       " <p>This program is crucial for honing one’s skills in search engine optimization, marketing planning, digital media analytics, etc. If you are serious about taking your career in digital marketing to the next level, this course is the one for you. Along with understanding the fundamentals of strategic brand communication, you will be able to develop hands-on skills in the field.</p>,\n",
       " <p>Let yourself explore the <a class=\"hyperlink-underline\" href=\"https://talentedge.com/articles/must-skills-dynamic-leader-post-pandemic-world/\" target=\"_blank\">dynamic field of leadership management</a> and set forth on a decorated journey in the business world. From neurosciences to psychology and from behavioral sciences to organizational mindsets, you will confront various factors that lead to creating a healthy environment in an organization. The 8-month XLRI course is instrumental in your holistic mindfulness training so that you get ready to nurture the <a class=\"hyperlink-underline\" href=\"https://talentedge.com/blog/hrm-essence-organization/\" target=\"_blank\">human resource of your organization</a>.</p>,\n",
       " <p>After the successful completion of the <a class=\"hyperlink-underline\" href=\"https://talentedge.com/xlri-jamshedpur/executive-development-program-transformational-leadership/\" target=\"_blank\">transformational leadership online course from XLRI Jamshedpur</a>, candidates will gain mastery over conflict and bias management. The program also covers multi-tasking for productive efficiency, honing the <a class=\"hyperlink-underline\" href=\"https://talentedge.com/articles/important-leadership-traits/\" target=\"_blank\">essential leadership instrument</a>, leveraging swadharma through Yoga, etc.</p>,\n",
       " <p>Become a master of online marketing, while <a class=\"hyperlink-underline\" href=\"https://talentedge.com/blog/complete-guide-successful-social-media-marketing-strategy/\" target=\"_blank\">understanding the basics of social media strategies</a>. Get acquainted with the advanced aspects of <a class=\"hyperlink-underline\" href=\"https://talentedge.com/xlri-jamshedpur/executive-development-program-transformational-leadership/\" target=\"_blank\">digital marketing</a> and <a class=\"hyperlink-underline\" href=\"https://talentedge.com/articles/5-tactics-improve-online-lead-generation/\" target=\"_blank\">learn how to generate leads</a> through web analysis. The <a class=\"hyperlink-underline\" href=\"https://talentedge.com/xlri-jamshedpur/digital-marketing-course/\" target=\"_blank\">XLRI online course in digital marketing</a> paves your way to becoming an online sales expert.</p>,\n",
       " <p>This program is crucial for honing one’s skills in search engine optimization, marketing planning, digital media analytics, etc. If you are serious about taking your career in digital marketing to the next level, this course is the one for you. Along with <a class=\"hyperlink-underline\" href=\"https://talentedge.com/articles/functions-strategic-management/\" target=\"_blank\">understanding the fundamentals of strategic</a> brand communication, you will be able to develop hands-on skills in the field.</p>,\n",
       " <p>As an HR professional, you might face challenges in adapting to the transforming cultures of the organization, in establishing impactful relationships with line managers, in coping up with operational excellence, or in many other things. You don’t have to struggle anymore. XLRI Jamshedpur brings an inclusive <a class=\"hyperlink-underline\" href=\"https://www.talentedge.com/xlri-jamshedpur/postgraduate-certificate-human-capital-leadership-course\" target=\"_blank\">course in human capital leadership</a> that intends to prepare you for a larger role as the steward of the company’s employees.</p>,\n",
       " <p>Learn how to measure &amp; manage employees’ performance and lead changes in an organization through this XLRI course. From <a class=\"hyperlink-underline\" href=\"https://talentedge.com/articles/what-are-the-six-steps-in-the-financial-planning-process/\" target=\"_blank\">financial planning</a> to leadership to communication management, candidates will upgrade their <a class=\"hyperlink-underline\" href=\"https://talentedge.com/blog/essential-skills-human-resources-management//\" target=\"_blank\">skills in various fields of human resource management.</a></p>,\n",
       " <p><a class=\"hyperlink-underline\" href=\"https://talentedge.com/analytics-courses/\" target=\"_blank\">Analytics</a> and data management have become <a class=\"hyperlink-underline\" href=\"https://talentedge.com/articles/four-pillars-business-analytics/\" target=\"_blank\">pillars of today’s business world</a>. They help in planning and strategizing the future courses of action for the sustainable growth of an organization. This is one aspect the <a class=\"hyperlink-underline\" href=\"https://talentedge.com/xlri-jamshedpur/business-analytics-courses/\" target=\"_blank\">XLRI course in business analytics</a> aims to make you the master of.</p>,\n",
       " <p>Get acquainted with the <a class=\"hyperlink-underline\" href=\"https://talentedge.com/articles/what-is-business-management-course/\" target=\"_blank\">fundamentals of business management</a> by learning about the challenges &amp; complexities in the analytics field and solving them with special skill sets. Some of the important subjects XLRI Jamshedpur introduces you to are data mining, text mining, digital media analytics, regression techniques, <a class=\"hyperlink-underline\" href=\"https://talentedge.com/blog/science-story-telling-data-visualization/\" target=\"_blank\">data visualization</a>, statistics of data sciences, etc.</p>,\n",
       " <p>Learn how to manage the human capital of an organization in the most effective way while undergoing comprehensive training in the company of XLRI Jamshedpur’s competent faculty. Candidates will be equipped with various <a class=\"hyperlink-underline\" href=\"https://talentedge.com/articles/must-hr-skills-master/\" target=\"_blank\">HR skills that help the company</a> achieve its strategic goals. The best thing about the 6-month program is that it helps participants prepare for global certification exams such as SHRM CP and SHRM SCP.</p>,\n",
       " <p>You will gain a thorough understanding of <a class=\"hyperlink-underline\" href=\"https://talentedge.com/articles/hr-leadership-role-hr-leaders-shaping-organisation-culture/\" target=\"_blank\">HR’s roles in organizations</a>, industrial relations, employment laws and regulations, <a class=\"hyperlink-underline\" href=\"https://talentedge.com/blog/analytics-playing-role-hr/\" target=\"_blank\">analytical foundations of HR measurement</a>, etc. The <a class=\"hyperlink-underline\" href=\"https://talentedge.com/xlri-jamshedpur/human-resource-management-course/\" target=\"_blank\">XLRI course in HR Management</a> is an opportunity to hone your skills in employee engagement, HR analytics, grievance handling, recruitments based on competency, talent management, etc.</p>,\n",
       " <p>An astonishing opportunity to discover the leader in you, the <a class=\"hyperlink-underline\" href=\"https://www.talentedge.com/xlri-jamshedpur/leadership-change-management-course\" target=\"_blank\">XLRI Course in Leadership &amp; Change Management</a> is designed to prepare executives for changes and challenges in the modern business world. XLRI Jamshedpur’s industry experts take you through the journey of brushing up your leadership style.</p>,\n",
       " <p>Learn how to manage transformations at the workplace and build strategies accordingly. The classes of <a class=\"hyperlink-underline\" href=\"https://talentedge.com/articles/strategies-effectively-leading-organisational-change/\" target=\"_blank\">organizational strategy</a> and ethical leadership help candidates get ready for the <a class=\"hyperlink-underline\" href=\"https://talentedge.com/articles/challenges-human-resource-management/\" target=\"_blank\">bigger challenges organizations face</a>. You will be able to hone various skills such as people management, <a class=\"hyperlink-underline\" href=\"https://talentedge.com/articles/10-benefits-leadership-courses/\" target=\"_blank\">leadership</a>, strategy making, communication, etc.</p>,\n",
       " <p>Let’s <a class=\"hyperlink-underline\" href=\"https://talentedge.com/blog/human-resources-drives-organization/\" target=\"_blank\">strengthen the human resource of your organization</a> by weaponizing it with data analytics. The XLRI course aims to make participants get acquainted with various aspects of <a class=\"hyperlink-underline\" href=\"https://www.talentedge.com/xlri-jamshedpur/certificate-human-resource-analytics-course\" target=\"_blank\">HR analytics</a> such as descriptive, predictive, and prescriptive. One doesn’t have to be proficient in mathematics/statistics to attend this course. </p>,\n",
       " <p>The 6-month program will help you use statistics and <a class=\"hyperlink-underline\" href=\"https://talentedge.com/articles/analytic-processes-tools-big-data/\" target=\"_blank\">data as tools</a> to formulate a proper strategy for people management. You will be able to better your communication, analytical, and <a class=\"hyperlink-underline\" href=\"https://talentedge.com/articles/human-resource-management-decision-making/\" target=\"_blank\">decision-making skills</a> after completing this course. XLRI Jamshedpur’s accomplished faculty will help you gain statistical insights using the SPSS technique.</p>,\n",
       " <p>One of India’s premier institutes of communication, marketing, and management, MICA Ahmedabad offers various academic offerings that have produced some of the country’s best business minds. Established in the year 1991, MICA has been offering some of the most inclusive courses. Its world-class infrastructure and comprehensive syllabus have attracted thousands of students over the years. Formerly known as Mudra Institute of Communications, Ahmedabad, it is one of the first residential institutions in the Asia-Pacific region dedicated to <a class=\"hyperlink-underline\" href=\"https://talentedge.com/articles/essential-marketing-strategies/\" target=\"_blank\">strategic marketing</a> and communication studies.</p>,\n",
       " <p>Today, when India has moved far ahead in terms of technological might, MICA can feel proud of its students leading some of the country’s topmost companies. It is known for its all-inclusive and market-oriented courses such as <a class=\"hyperlink-underline\" href=\"https://talentedge.com/blog/public-relations-vs-advertising-management-whats-difference/\" target=\"_blank\">Advertisement Management &amp; Public Relations</a>, Market Research &amp; <a class=\"hyperlink-underline\" href=\"https://talentedge.com/articles/things-consider-taking-data-analytics-course/\" target=\"_blank\">Data Analytics</a>, Digital Marketing, Media &amp; Entertainment Communication, Business Management, etc.</p>,\n",
       " <p><a class=\"hyperlink-underline\" href=\"https://talentedge.com/learn-digital-marketing/\" target=\"_blank\">Digital Marketing</a> has become the backbone of today’s business strategy, thanks to the tremendous increase in internet users. Without online and <a class=\"hyperlink-underline\" href=\"https://talentedge.com/blog/complete-guide-successful-social-media-marketing-strategy/\" target=\"_blank\">social media promotion</a>, one cannot imagine the <a class=\"hyperlink-underline\" href=\"https://talentedge.com/articles/develop-successful-marketing-strategy/\" target=\"_blank\">marketing strategies getting successful</a>. This is one of the reasons behind the huge growth in the demand of digital marketers across India and the globe. </p>,\n",
       " <p>Understanding this, <a class=\"hyperlink-underline\" href=\"https://talentedge.com/mica/digital-marketing-courses/\" target=\"_blank\">MICA Ahmedabad presents an advanced course in Digital Marketing</a>. The program intends to prepare candidates to flourish in the highly demanded industry. Along with mobile marketing. Google analytics, and <a class=\"hyperlink-underline\" href=\"https://talentedge.com/articles/changing-face-marketing-communication-digital-era/\" target=\"_blank\">digital communication</a>, participants are trained to use various <a class=\"hyperlink-underline\" href=\"https://talentedge.com/blog/effectively-use-digital-marketing-tools/\" target=\"_blank\">digital marketing tools</a> to promote their companies and brands successfully.</p>,\n",
       " <p>The backbone of the modern economy is businesses, whose various aspects need to be managed and handled effectively. Thus, business managers are in high demand across industries. You could be one of those professionals working to let your company have an edge over its competitors. Join the exclusive <a class=\"hyperlink-underline\" href=\"https://talentedge.com/mica/business-management-course/\" target=\"_blank\">Business Management course by MICA Ahmedabad</a> and hone your <a class=\"hyperlink-underline\" href=\"https://talentedge.com/blog/management-skills-necessary-become-successful-entrepreneur/\" target=\"_blank\">managerial skills in the company of some of the industry experts</a>. </p>,\n",
       " <p>Some of the key areas you will master during the MICA <a class=\"hyperlink-underline\" href=\"https://www.talentedge.com/browse-courses\" target=\"_blank\">online course</a> are communication, business strategy, people management, <a class=\"hyperlink-underline\" href=\"https://talentedge.com/blog/can-supply-chain-management-streamline-organisational-process/\" target=\"_blank\">supply chain planning</a>, performance measurement, business ethics, etc. Candidates will experience a mix of the practical and theoretical modes of training that promotes their overall personality development.</p>,\n",
       " <p>Claim your place in the highly competitive and decorated field of <a class=\"hyperlink-underline\" href=\"https://talentedge.com/mica/advertising-management-public-relations-course/\" target=\"_blank\">advertisement and public relations</a>. Get equipped with the latest concepts and techniques of modern marketing. Combining theoretical learning with practical experiences, the MICA Ahmedabad course aims to make you ready to face various forms of challenges arising in the field. </p>,\n",
       " <p>The 11-month course is an opportunity to get a deeper understanding of brand positioning, marketing environment, client-agency relationship, reputation management, etc. The MICA online course also includes a one-week on-campus module where you will get a chance to interact with faculty members.</p>,\n",
       " <p>Launching a brand into the market might not be as challenging as managing it for a long time, since it requires targeting the right sets of consumers and retaining them with proper communication. If you wish to learn this tactic, sign up for the <a class=\"hyperlink-underline\" href=\"https://talentedge.com/mica/marketing-brand-management-course/\" target=\"_blank\">MICA course on brand management and marketing communication</a>. You will get acquainted with the fundamental concepts of brand positioning, integrated marketing communication, etc. </p>,\n",
       " <p>Along with becoming a master of these subjects, candidates get an opportunity to hone their decision-making, communication, and social media skills. Understand brand building and buyer behavior .</p>,\n",
       " <p><span class=\"answer\">Ans</span>: Yes, IIM does provide online courses for students and professionals who wish to hone their skills in a particular field. Institutes like <a class=\"hyperlink-underline\" href=\"https://talentedge.com/iim-shillong/\" target=\"_blank\">IIM Shillong</a>, <a class=\"hyperlink-underline\" href=\"https://talentedge.com/iim-kozhikode/\" target=\"_blank\">IIM Kozhikode</a>, <a class=\"hyperlink-underline\" href=\"https://talentedge.com/iim-raipur/\" target=\"_blank\">IIM Raipur</a>, and <a class=\"hyperlink-underline\" href=\"https://talentedge.com/iim-lucknow/\" target=\"_blank\">IIM Lucknow</a> offer various <a class=\"hyperlink-underline\" href=\"https://talentedge.com/\" target=\"_blank\">online courses in association with Talentedge</a>. These programs are designed to help <a class=\"hyperlink-underline\" href=\"https://talentedge.com/blog/online-executive-courses-help-working-professionals-career/\" target=\"_blank\">working professionals upgrade their expertise</a> and get into good jobs. Some of the IIM online courses include <a class=\"hyperlink-underline\" href=\"https://talentedge.com/iim-kozhikode/professional-certificate-program-marketing-sales-management-iim-kozhikode/\" target=\"_blank\">certificate programs in Marketing and Sales Management</a><p>, <a class=\"hyperlink-underline\" href=\"https://talentedge.com/human-resource-management-courses/\" target=\"_blank\">Human Resource Management</a>, <a class=\"hyperlink-underline\" href=\"https://talentedge.com/supply-chain-management-courses/\" target=\"_blank\">Supply Chain Management</a>, <a class=\"hyperlink-underline\" href=\"https://talentedge.com/iim-kozhikode/applied-financial-risk-management-course/\" target=\"_blank\">Applied Financial Risk Management</a>, <a class=\"hyperlink-underline\" href=\"https://talentedge.com/business-management-courses/\" target=\"_blank\">Business Management</a>, etc.</p>\n",
       " <h3>Q. Which are the best IIM online courses?</h3>\n",
       " <p><span class=\"answer\">Ans</span>: IIM online courses are considered the best for candidates who are looking for jobs of premium quality. Courses like <a class=\"hyperlink-underline\" href=\"https://talentedge.com/iim-lucknow/advanced-program-leadership-digital-era/\" target=\"_blank\">Leadership in the Digital Era</a>, <a class=\"hyperlink-underline\" href=\"https://www.talentedge.com/general-management-courses\" target=\"_blank\">General Management</a>, Human Resource Management, etc. are extremely popular among working executives. Talentedge offers these IIM online courses with the intent of schooling candidates in the best way possible so that they can face various forms of challenges arising in their careers ahead. </p>\n",
       " <h3>Q. Which course is best in IIM Lucknow?</h3>\n",
       " <p><span class=\"answer\">Ans</span>: IIM Lucknow is one of India’s most prestigious B-schools, getting a certification from where is extremely fruitful. Although every IIM online course at IIM Lucknow is a beauty in itself, there are certain programs that attract a huge number of students. For example, Talentedge’s <a class=\"hyperlink-underline\" href=\"https://talentedge.com/iim-lucknow/integrated-marketing-strategy-course/\" target=\"_blank\">Executive Program in Marketing Strategy</a> and Business Management are considered extremely popular for those aiming to hone their <a class=\"hyperlink-underline\" href=\"https://talentedge.com/articles/top-leadership-skills-need-learn-lead-team/\" target=\"_blank\">leadership skills</a>. You will find two <a class=\"hyperlink-underline\" href=\"javascript:void(0);\">advanced programs on our platform — Strategic Management for Business and Excellence</a> and Supply Chain Management during Uncertain Times. These courses are designed especially to prepare professionals for tough times.</p>\n",
       " <h3>Q. Which is the best institute for online courses?</h3>\n",
       " <p><span class=\"answer\">Ans</span>: The popularity of online education in India has been gaining huge momentum in the last couple of years. This has resulted in the emergence of a large number of institutes offering online courses. With so many options present, it becomes difficult to choose the best one. However, there are certain institutes like IIM Lucknow, IIM Kozhikode, MICA, <a class=\"hyperlink-underline\" href=\"https://talentedge.com/xlri-jamshedpur/\" target=\"_blank\">XLRI</a>, etc. that are considered top of the range when it comes to offering online education. </p>\n",
       " <h3>Q. Which online certification is best in India?</h3>\n",
       " <p><span class=\"answer\">Ans</span>: Online certification offered by IIM Kozhikode, <a class=\"hyperlink-underline\" href=\"https://talentedge.com/iit-Delhi/\" target=\"_blank\">IIT Delhi</a>, MICA, etc. are considered the best in India. Although there are no certain criteria to decide which institute is of the finest standard in <a class=\"hyperlink-underline\" href=\"https://talentedge.com/articles/best-online-certification-courses-india/\" target=\"_blank\">online certification programs</a>, IIM online courses are among the most popular among candidates. If you are looking to join a certification program along with your job, check out the Talentedge website and opt for the course you are looking for.</p>\n",
       " <h3>Q. Which course is best at MICA?</h3>\n",
       " <p><span class=\"answer\">Ans</span>: MICA Ahmedabad is one of the most prominent institutes in India dedicated to leadership development in the field of strategic management and marketing. Some of the best online courses at MICA are:</p>\n",
       " <ul class=\"faq-list\">\n",
       " <li>Advance certification program in digital marketing</li>\n",
       " <li>Advance certificate in advertising management and public relations</li>\n",
       " <li>Advance certificate in Business Management</li>\n",
       " <li>Advance certificate in managing brands and marketing communication</li>\n",
       " </ul>\n",
       " <p>These courses are offered in online mode in collaboration with Talentedge.</p>\n",
       " <h3>Q. Which is the best course in Supply Chain Management?</h3>\n",
       " <p><span class=\"answer\">Ans</span>: Since supply chain management is among the most sought-after areas of study, students are always looking for the best option in this field. Here is the list of some of the best Supply Chain Management courses available on Talentedge:</p>\n",
       " <ul class=\"faq-list\" l=\"\">\n",
       " <li><a class=\"hyperlink-underline\" href=\"https://www.talentedge.com/iim-kozhikode/supply-chain-strategy-management-course\" target=\"_blank\">Professional certificate program in supply chain strategy and management by IIM Kozhikode</a></li>\n",
       " <li><a class=\"hyperlink-underline\" href=\"https://www.talentedge.com/xlri-jamshedpur/executive-certificate-program-in-logistics-and-supply-chain-management-scm3\" target=\"_blank\">Executive certificate program in logistics and supply chain management by XLRI Jamshedpur</a></li>\n",
       " <li><a class=\"hyperlink-underline\" href=\"https://www.talentedge.com/iim-lucknow/supply-chain-management\" target=\"_blank\">Executive program in supply chain management during uncertain times by IIM Lucknow</a></li>\n",
       " </ul>\n",
       " <h3>Q. Which course is best in XLRI Jamshedpur?</h3>\n",
       " <p><span class=\"answer\">Ans</span>: Based in Jamshedpur, Jharkhand, XLRI is among India’s premium management institutes. Talking about the best programs at XLRI Jamshedpur, you can consider signing up for one of these online courses offered by Talentedge:</p>\n",
       " <ul class=\"faq-list\">\n",
       " <li><a class=\"hyperlink-underline\" href=\"https://talentedge.com/xlri-jamshedpur/data-science-course-python/\" target=\"_blank\">Executive development program in data science</a></li>\n",
       " <li><a class=\"hyperlink-underline\" href=\"https://talentedge.com/xlri-jamshedpur/financial-analytics-course/\" target=\"_blank\">Executive development program in financial analytics</a></li>\n",
       " <li><a class=\"hyperlink-underline\" href=\"https://talentedge.com/xlri-jamshedpur/project-management-course/\" target=\"_blank\">Executive development program in project management for senior professionals</a></li>\n",
       " <li><a class=\"hyperlink-underline\" href=\"https://talentedge.com/xlri-jamshedpur/talent-management-course/\" target=\"_blank\">Executive development program in talent management</a></li>\n",
       " <li><a class=\"hyperlink-underline\" href=\"https://talentedge.com/xlri-jamshedpur/executive-development-program-strategic-management-course/\" target=\"_blank\">Executive development program in strategic management</a></li>\n",
       " <li><a class=\"hyperlink-underline\" href=\"https://talentedge.com/xlri-jamshedpur/financial-management-course/\" target=\"_blank\">Executive development program in advance financial management</a></li>\n",
       " <li><a href=\"\">Executive certificate program in logistics and supply chain management</a></li>\n",
       " <li><a class=\"hyperlink-underline\" href=\"https://talentedge.com/xlri-jamshedpur/human-resource-management-course/\" target=\"_blank\">Executive development program in human resource management</a></li>\n",
       " </ul>\n",
       " <h3>Q. How can I get an IIT course certificate?</h3>\n",
       " <p><span class=\"answer\">Ans</span>: There is no doubt that getting into IITs is one of the most difficult tasks for Indian aspirants. However, getting a certificate from the institute can be a little less demanding. All you need to do is apply for an IIT online course on the Talentedge website. IIT Delhi offers two major courses in collaboration with Talentedge:</p>\n",
       " <ul class=\"faq-list\">\n",
       " <li><a class=\"hyperlink-underline\" href=\"https://www.talentedge.com/iit-delhi/certificate-program-industrial-design-innovation-entrepreneurship\" target=\"_blank\">Certificate program in Industrial Design, Innovation and Entrepreneurship</a></li>\n",
       " <li><a class=\"hyperlink-underline\" href=\"https://www.talentedge.com/iit-delhi/certificate-programme-in-5g-iot-ai\" target=\"_blank\">Certificate Programme in 5G and its Applications in IoT and AI</a></li>\n",
       " <li><a class=\"hyperlink-underline\" href=\"https://www.talentedge.com/iit-delhi/certificate-course-startup-boot-camp-iit-delhi\" target=\"_blank\">Certificate Programme In Startup Boot Camp From IIT Delhi</a></li>\n",
       " </ul>\n",
       " <h3>Q. What are the 7 types of Digital Marketing?</h3>\n",
       " <p><span class=\"answer\">Ans</span>: Digital Marketing can be broadly divided into 7 types: Search Engine Optimization (SEO), Content Marketing, Email Marketing, Social Media Marketing, Pay-per-Click (PPC), Mobile Marketing, and <a class=\"hyperlink-underline\" href=\"javascript:void(0);\">Marketing Analytics</a>. Since digital marketing has become such an irreplaceable aspect of today’s marketing affairs, various IIT and IIM online courses are being offered on this subject. You can sign up for these digital marketing certificate courses on Talentedge’s website.</p>\n",
       " </p>,\n",
       " <p>, <a class=\"hyperlink-underline\" href=\"https://talentedge.com/human-resource-management-courses/\" target=\"_blank\">Human Resource Management</a>, <a class=\"hyperlink-underline\" href=\"https://talentedge.com/supply-chain-management-courses/\" target=\"_blank\">Supply Chain Management</a>, <a class=\"hyperlink-underline\" href=\"https://talentedge.com/iim-kozhikode/applied-financial-risk-management-course/\" target=\"_blank\">Applied Financial Risk Management</a>, <a class=\"hyperlink-underline\" href=\"https://talentedge.com/business-management-courses/\" target=\"_blank\">Business Management</a>, etc.</p>,\n",
       " <p><span class=\"answer\">Ans</span>: IIM online courses are considered the best for candidates who are looking for jobs of premium quality. Courses like <a class=\"hyperlink-underline\" href=\"https://talentedge.com/iim-lucknow/advanced-program-leadership-digital-era/\" target=\"_blank\">Leadership in the Digital Era</a>, <a class=\"hyperlink-underline\" href=\"https://www.talentedge.com/general-management-courses\" target=\"_blank\">General Management</a>, Human Resource Management, etc. are extremely popular among working executives. Talentedge offers these IIM online courses with the intent of schooling candidates in the best way possible so that they can face various forms of challenges arising in their careers ahead. </p>,\n",
       " <p><span class=\"answer\">Ans</span>: IIM Lucknow is one of India’s most prestigious B-schools, getting a certification from where is extremely fruitful. Although every IIM online course at IIM Lucknow is a beauty in itself, there are certain programs that attract a huge number of students. For example, Talentedge’s <a class=\"hyperlink-underline\" href=\"https://talentedge.com/iim-lucknow/integrated-marketing-strategy-course/\" target=\"_blank\">Executive Program in Marketing Strategy</a> and Business Management are considered extremely popular for those aiming to hone their <a class=\"hyperlink-underline\" href=\"https://talentedge.com/articles/top-leadership-skills-need-learn-lead-team/\" target=\"_blank\">leadership skills</a>. You will find two <a class=\"hyperlink-underline\" href=\"javascript:void(0);\">advanced programs on our platform — Strategic Management for Business and Excellence</a> and Supply Chain Management during Uncertain Times. These courses are designed especially to prepare professionals for tough times.</p>,\n",
       " <p><span class=\"answer\">Ans</span>: The popularity of online education in India has been gaining huge momentum in the last couple of years. This has resulted in the emergence of a large number of institutes offering online courses. With so many options present, it becomes difficult to choose the best one. However, there are certain institutes like IIM Lucknow, IIM Kozhikode, MICA, <a class=\"hyperlink-underline\" href=\"https://talentedge.com/xlri-jamshedpur/\" target=\"_blank\">XLRI</a>, etc. that are considered top of the range when it comes to offering online education. </p>,\n",
       " <p><span class=\"answer\">Ans</span>: Online certification offered by IIM Kozhikode, <a class=\"hyperlink-underline\" href=\"https://talentedge.com/iit-Delhi/\" target=\"_blank\">IIT Delhi</a>, MICA, etc. are considered the best in India. Although there are no certain criteria to decide which institute is of the finest standard in <a class=\"hyperlink-underline\" href=\"https://talentedge.com/articles/best-online-certification-courses-india/\" target=\"_blank\">online certification programs</a>, IIM online courses are among the most popular among candidates. If you are looking to join a certification program along with your job, check out the Talentedge website and opt for the course you are looking for.</p>,\n",
       " <p><span class=\"answer\">Ans</span>: MICA Ahmedabad is one of the most prominent institutes in India dedicated to leadership development in the field of strategic management and marketing. Some of the best online courses at MICA are:</p>,\n",
       " <p>These courses are offered in online mode in collaboration with Talentedge.</p>,\n",
       " <p><span class=\"answer\">Ans</span>: Since supply chain management is among the most sought-after areas of study, students are always looking for the best option in this field. Here is the list of some of the best Supply Chain Management courses available on Talentedge:</p>,\n",
       " <p><span class=\"answer\">Ans</span>: Based in Jamshedpur, Jharkhand, XLRI is among India’s premium management institutes. Talking about the best programs at XLRI Jamshedpur, you can consider signing up for one of these online courses offered by Talentedge:</p>,\n",
       " <p><span class=\"answer\">Ans</span>: There is no doubt that getting into IITs is one of the most difficult tasks for Indian aspirants. However, getting a certificate from the institute can be a little less demanding. All you need to do is apply for an IIT online course on the Talentedge website. IIT Delhi offers two major courses in collaboration with Talentedge:</p>,\n",
       " <p><span class=\"answer\">Ans</span>: Digital Marketing can be broadly divided into 7 types: Search Engine Optimization (SEO), Content Marketing, Email Marketing, Social Media Marketing, Pay-per-Click (PPC), Mobile Marketing, and <a class=\"hyperlink-underline\" href=\"javascript:void(0);\">Marketing Analytics</a>. Since digital marketing has become such an irreplaceable aspect of today’s marketing affairs, various IIT and IIM online courses are being offered on this subject. You can sign up for these digital marketing certificate courses on Talentedge’s website.</p>,\n",
       " <p>The page will now reload.</p>,\n",
       " <p>Executive Program In General Management</p>,\n",
       " <p>Applied Analytics in Financial Risk Basic Level\n",
       "                                                                     </p>,\n",
       " <p>Applied Analytics in Financial Risk Mid Level</p>,\n",
       " <p>Applied Analytics in Financial Risk Advance Level\n",
       "                                                                     </p>,\n",
       " <p>Applied Analytics in Financial Risk Leadership\n",
       "                                                                         Level</p>,\n",
       " <p>Our representative will call you in less than 24 hrs.</p>,\n",
       " <p>Please Check your email to download the brochure</p>,\n",
       " <p>Our representative will call you in less than 24 hrs.</p>,\n",
       " <p>Our representative will call you in less than 24 hrs.</p>,\n",
       " <p>Talk to our experts to find a course best for your career</p>,\n",
       " <p>Empowering Workforce and Delivering Result</p>,\n",
       " <p>The answer to your question will be mailed to this email id.</p>,\n",
       " <p>We will write back to you on you email id in less than 24 hrs </p>,\n",
       " <p>Our representative will call you in less than 24 hrs.</p>,\n",
       " <p>The page will now reload.</p>,\n",
       " <p class=\"mb-0\">Let us help you guide towards your career path</p>]"
      ]
     },
     "execution_count": 10,
     "metadata": {},
     "output_type": "execute_result"
    }
   ],
   "source": [
    "p=soup.find_all('p')\n",
    "p"
   ]
  },
  {
   "cell_type": "code",
   "execution_count": 11,
   "id": "b4fbcb72",
   "metadata": {},
   "outputs": [],
   "source": [
    "url2='https://talentedge.com/golden-gate-university/doctor-of-business-administration'"
   ]
  },
  {
   "cell_type": "code",
   "execution_count": 12,
   "id": "36359038",
   "metadata": {},
   "outputs": [],
   "source": [
    "page1=requests.get(url2)\n",
    "htmlcontent=page1.content"
   ]
  },
  {
   "cell_type": "code",
   "execution_count": 13,
   "id": "68c4b62d",
   "metadata": {},
   "outputs": [],
   "source": [
    "soup2=BeautifulSoup(htmlcontent,'html.parser')"
   ]
  },
  {
   "cell_type": "code",
   "execution_count": 56,
   "id": "1c313cd0",
   "metadata": {},
   "outputs": [],
   "source": [
    "title=soup2.find('title')\n",
    "title=title.text\n"
   ]
  },
  {
   "cell_type": "code",
   "execution_count": 57,
   "id": "5b9d97c9",
   "metadata": {},
   "outputs": [],
   "source": [
    "p_tag = soup2.find('div', class_='desc_less').find('p')\n",
    "\n",
    "# Remove the \"Read More\" link\n",
    "for a in p_tag.find_all('a'):\n",
    "    a.decompose()\n",
    "\n",
    "para=p_tag.text.strip()"
   ]
  },
  {
   "cell_type": "code",
   "execution_count": 21,
   "id": "f58c42f5",
   "metadata": {},
   "outputs": [],
   "source": [
    "p_tags = soup.find_all('p')\n",
    "\n",
    "# for p_tag in p_tags:\n",
    "#     if p_tag.find('strong'):\n",
    "#         print(p_tag.text.split('/t'))"
   ]
  },
  {
   "cell_type": "code",
   "execution_count": 58,
   "id": "e2dcc72d",
   "metadata": {},
   "outputs": [],
   "source": [
    "p_tags = soup.find_all('p')\n",
    "for p_tag in p_tags:\n",
    "    if p_tag.find('strong'):\n",
    "        text = p_tag.text.lower()\n",
    "        if 'duration:' in text:\n",
    "            print(text)"
   ]
  },
  {
   "cell_type": "code",
   "execution_count": 65,
   "id": "906ca675",
   "metadata": {},
   "outputs": [],
   "source": [
    "import re\n",
    "\n",
    "start_date= soup.find_all('p')\n",
    "for date in start_date:\n",
    "    if date.find('strong'):\n",
    "        text = date.text.lower()\n",
    "        date_pattern = r'\\d{1,2} (jan|feb|mar|apr|may|jun|jul|aug|sep|oct|nov|dec), \\d{4}'\n",
    "        if re.search(date_pattern, text):\n",
    "            print(text)\n",
    "       \n",
    "    \n",
    "    \n",
    "      "
   ]
  },
  {
   "cell_type": "code",
   "execution_count": 70,
   "id": "e1991c3a",
   "metadata": {},
   "outputs": [
    {
     "name": "stdout",
     "output_type": "stream",
     "text": [
      "['Foundation (12 Credits)', 'Concentration (12 Credits)', 'Final dissertation (32 Credits)']\n"
     ]
    }
   ],
   "source": [
    "tabs_ul = soup2.find('ul', class_='nav nav-tabs syl-ul')\n",
    "\n",
    "# Find all anchor tags within the ul element\n",
    "anchor_tags = tabs_ul.find_all('a')\n",
    "\n",
    "# Extract the text content of each anchor tag\n",
    "\n",
    "Syllabus= [anchor.get_text(strip=True) for anchor in anchor_tags]\n",
    "\n",
    "print(Syllabus)"
   ]
  },
  {
   "cell_type": "code",
   "execution_count": 37,
   "id": "6a8dec41",
   "metadata": {},
   "outputs": [
    {
     "name": "stdout",
     "output_type": "stream",
     "text": [
      "h3 Text: Key skills you’ll learn\n",
      "li Texts: ['Applied Research', 'Concept Selection', 'Management Issues Redressal', 'Critical Decision-Making', 'Critical Thinking']\n"
     ]
    }
   ],
   "source": [
    "key_skills_div = soup2.find(class_='key-skills-sec')\n",
    "\n",
    "# Find the h3 element within the div\n",
    "h3_element = key_skills_div.find('h3')\n",
    "\n",
    "# Extract the text content of the h3 element\n",
    "h3_text = h3_element.get_text(strip=True)\n",
    "print(\"h3 Text:\", h3_text)\n",
    "\n",
    "# Find all li elements within the ul inside the div\n",
    "li_elements = key_skills_div.find('ul').find_all('li')\n",
    "\n",
    "# Extract the text content of each li element\n",
    "li_texts = [li.get_text(strip=True) for li in li_elements]\n",
    "print(\"li Texts:\", li_texts)\n"
   ]
  },
  {
   "cell_type": "code",
   "execution_count": null,
   "id": "375ccdba",
   "metadata": {},
   "outputs": [],
   "source": [
    "eligible-right-inner"
   ]
  },
  {
   "cell_type": "code",
   "execution_count": 41,
   "id": "f48f2873",
   "metadata": {},
   "outputs": [
    {
     "name": "stdout",
     "output_type": "stream",
     "text": [
      "h3 Text: Education\n"
     ]
    }
   ],
   "source": [
    "target_students = soup2.find(class_='eligible-right-inner')\n",
    "\n",
    "# Find the h3 element within the div\n",
    "h4_element = target_students.find('h4')\n",
    "\n",
    "# Extract the text content of the h3 element\n",
    "h4_text = h4_element.get_text(strip=True)\n",
    "print(\"h3 Text:\", h4_text)\n"
   ]
  },
  {
   "cell_type": "code",
   "execution_count": 71,
   "id": "848aef59",
   "metadata": {},
   "outputs": [
    {
     "name": "stdout",
     "output_type": "stream",
     "text": [
      "p Text: Master's Degree (or equivalent) or Bachelors Degree with 5+ years of work experience.\n"
     ]
    }
   ],
   "source": [
    "eligible_div=soup2.find(class_='eligible-right-top-list')\n",
    "# Find the p tag within the div\n",
    "p_tag = eligible_div.find('p')\n",
    "\n",
    "# Extract the text content of the p tag\n",
    "Education= p_tag.get_text(strip=True)\n",
    "\n",
    "print(\"p Text:\", Education)"
   ]
  },
  {
   "cell_type": "code",
   "execution_count": 55,
   "id": "cbbb1ab6",
   "metadata": {},
   "outputs": [
    {
     "name": "stdout",
     "output_type": "stream",
     "text": [
      "1226438\n"
     ]
    }
   ],
   "source": [
    "price_div = soup2.find(class_='program-details-total-pay-amt-right')\n",
    "\n",
    "# Extract the text content of the div\n",
    "price_text = price_div.get_text(strip=True)\n",
    "\n",
    "# Use regular expressions to extract the number\n",
    "INR = re.search(r'\\d+', price_text).group()\n",
    "\n",
    "print(INR)"
   ]
  },
  {
   "cell_type": "code",
   "execution_count": null,
   "id": "b59bd0eb",
   "metadata": {},
   "outputs": [],
   "source": [
    "title, para,syllabus, h3_texts,li_texts,Education,INR,faculty1"
   ]
  },
  {
   "cell_type": "code",
   "execution_count": 76,
   "id": "28744ece",
   "metadata": {},
   "outputs": [
    {
     "name": "stdout",
     "output_type": "stream",
     "text": [
      "Dr. Mick Mcgee\n"
     ]
    }
   ],
   "source": [
    "faculty_div = soup2.find(class_='best-fdetail')\n",
    "\n",
    "# Find the h4 element with the class 'best-fname' within the div\n",
    "faculty_name = faculty_div.find(class_='best-fname').get_text(strip=True)\n",
    "\n",
    "# Store the extracted name into a variable named 'faculty'\n",
    "faculty1 = faculty_name\n",
    "\n",
    "print(faculty1)"
   ]
  },
  {
   "cell_type": "code",
   "execution_count": 93,
   "id": "ae7db3ec",
   "metadata": {},
   "outputs": [
    {
     "data": {
      "text/html": [
       "<div>\n",
       "<style scoped>\n",
       "    .dataframe tbody tr th:only-of-type {\n",
       "        vertical-align: middle;\n",
       "    }\n",
       "\n",
       "    .dataframe tbody tr th {\n",
       "        vertical-align: top;\n",
       "    }\n",
       "\n",
       "    .dataframe thead th {\n",
       "        text-align: right;\n",
       "    }\n",
       "</style>\n",
       "<table border=\"1\" class=\"dataframe\">\n",
       "  <thead>\n",
       "    <tr style=\"text-align: right;\">\n",
       "      <th></th>\n",
       "      <th>Title</th>\n",
       "      <th>Paragraph</th>\n",
       "      <th>Syllabus</th>\n",
       "      <th>H3 Texts</th>\n",
       "      <th>LI Texts</th>\n",
       "      <th>Education</th>\n",
       "      <th>INR</th>\n",
       "      <th>Faculty</th>\n",
       "    </tr>\n",
       "  </thead>\n",
       "  <tbody>\n",
       "    <tr>\n",
       "      <th>0</th>\n",
       "      <td>Doctor of business administration - TalentEdge</td>\n",
       "      <td>Go beyond the boundaries of your job, without ...</td>\n",
       "      <td>[Foundation (12 Credits), Concentration (12 Cr...</td>\n",
       "      <td>Key skills you’ll learn</td>\n",
       "      <td>[Applied Research, Concept Selection, Manageme...</td>\n",
       "      <td>Master's Degree (or equivalent) or Bachelors D...</td>\n",
       "      <td>1226438</td>\n",
       "      <td>Dr. Mick Mcgee</td>\n",
       "    </tr>\n",
       "  </tbody>\n",
       "</table>\n",
       "</div>"
      ],
      "text/plain": [
       "                                            Title  \\\n",
       "0  Doctor of business administration - TalentEdge   \n",
       "\n",
       "                                           Paragraph  \\\n",
       "0  Go beyond the boundaries of your job, without ...   \n",
       "\n",
       "                                            Syllabus                 H3 Texts  \\\n",
       "0  [Foundation (12 Credits), Concentration (12 Cr...  Key skills you’ll learn   \n",
       "\n",
       "                                            LI Texts  \\\n",
       "0  [Applied Research, Concept Selection, Manageme...   \n",
       "\n",
       "                                           Education      INR         Faculty  \n",
       "0  Master's Degree (or equivalent) or Bachelors D...  1226438  Dr. Mick Mcgee  "
      ]
     },
     "execution_count": 93,
     "metadata": {},
     "output_type": "execute_result"
    }
   ],
   "source": [
    "data = {\n",
    "    \"Title\": [title],\n",
    "    \"Paragraph\": [para],\n",
    "    \"Syllabus\": [Syllabus],\n",
    "    \"H3 Texts\": [h3_text],\n",
    "    \"LI Texts\": [li_texts],\n",
    "    \"Education\": [Education],\n",
    "    \"INR\": [INR],\n",
    "    \"Faculty\": [faculty1]\n",
    "}\n",
    "\n",
    "# Convert the dictionary to a DataFrame\n",
    "df = pd.DataFrame(data)\n",
    "\n",
    "# Print the DataFrame\n",
    "df.head()"
   ]
  },
  {
   "cell_type": "code",
   "execution_count": null,
   "id": "9af7b285",
   "metadata": {},
   "outputs": [],
   "source": []
  },
  {
   "cell_type": "code",
   "execution_count": null,
   "id": "7dc2edda",
   "metadata": {},
   "outputs": [],
   "source": []
  },
  {
   "cell_type": "code",
   "execution_count": null,
   "id": "c18cf73e",
   "metadata": {},
   "outputs": [],
   "source": []
  },
  {
   "cell_type": "code",
   "execution_count": null,
   "id": "13095657",
   "metadata": {},
   "outputs": [],
   "source": []
  }
 ],
 "metadata": {
  "kernelspec": {
   "display_name": "Python 3 (ipykernel)",
   "language": "python",
   "name": "python3"
  },
  "language_info": {
   "codemirror_mode": {
    "name": "ipython",
    "version": 3
   },
   "file_extension": ".py",
   "mimetype": "text/x-python",
   "name": "python",
   "nbconvert_exporter": "python",
   "pygments_lexer": "ipython3",
   "version": "3.9.13"
  }
 },
 "nbformat": 4,
 "nbformat_minor": 5
}
