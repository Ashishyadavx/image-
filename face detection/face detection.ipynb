{
 "cells": [
  {
   "cell_type": "code",
   "execution_count": 1,
   "id": "3008d1c7",
   "metadata": {},
   "outputs": [],
   "source": [
    "import tensorflow\n",
    "import numpy as np\n",
    "import pandas as pd\n"
   ]
  },
  {
   "cell_type": "code",
   "execution_count": 4,
   "id": "ba6f5bf4",
   "metadata": {},
   "outputs": [
    {
     "name": "stdout",
     "output_type": "stream",
     "text": [
      "Collecting mtcnn\n",
      "  Downloading mtcnn-0.1.1-py3-none-any.whl (2.3 MB)\n",
      "     ---------------------------------------- 2.3/2.3 MB 3.6 MB/s eta 0:00:00\n",
      "Requirement already satisfied: opencv-python>=4.1.0 in c:\\users\\rohit yadav\\anaconda3\\lib\\site-packages (from mtcnn) (4.8.0.74)\n",
      "Requirement already satisfied: keras>=2.0.0 in c:\\users\\rohit yadav\\anaconda3\\lib\\site-packages (from mtcnn) (2.13.1)\n",
      "Requirement already satisfied: numpy>=1.17.3 in c:\\users\\rohit yadav\\anaconda3\\lib\\site-packages (from opencv-python>=4.1.0->mtcnn) (1.24.3)\n",
      "Installing collected packages: mtcnn\n",
      "Successfully installed mtcnn-0.1.1\n",
      "Note: you may need to restart the kernel to use updated packages.\n"
     ]
    }
   ],
   "source": [
    "pip install mtcnn\n"
   ]
  },
  {
   "cell_type": "code",
   "execution_count": 2,
   "id": "334a5790",
   "metadata": {},
   "outputs": [],
   "source": [
    "from mtcnn import MTCNN"
   ]
  },
  {
   "cell_type": "code",
   "execution_count": 3,
   "id": "7f9c0d6a",
   "metadata": {},
   "outputs": [],
   "source": [
    "import cv2\n",
    "detector=MTCNN()"
   ]
  },
  {
   "cell_type": "code",
   "execution_count": 12,
   "id": "cd709069",
   "metadata": {},
   "outputs": [],
   "source": [
    "img=cv2.imread('images.jpg')"
   ]
  },
  {
   "cell_type": "code",
   "execution_count": 13,
   "id": "9877bdb4",
   "metadata": {},
   "outputs": [
    {
     "name": "stdout",
     "output_type": "stream",
     "text": [
      "1/1 [==============================] - 0s 52ms/step\n",
      "1/1 [==============================] - 0s 44ms/step\n",
      "1/1 [==============================] - 0s 41ms/step\n",
      "1/1 [==============================] - 0s 73ms/step\n",
      "1/1 [==============================] - 0s 42ms/step\n",
      "1/1 [==============================] - 0s 36ms/step\n",
      "1/1 [==============================] - 0s 38ms/step\n",
      "1/1 [==============================] - 0s 48ms/step\n",
      "1/1 [==============================] - 0s 66ms/step\n"
     ]
    }
   ],
   "source": [
    "output=detector.detect_faces(img)"
   ]
  },
  {
   "cell_type": "code",
   "execution_count": 14,
   "id": "3e45ed50",
   "metadata": {
    "scrolled": true
   },
   "outputs": [
    {
     "name": "stdout",
     "output_type": "stream",
     "text": [
      "[{'box': [73, 125, 50, 67], 'confidence': 0.9989792108535767, 'keypoints': {'left_eye': (94, 151), 'right_eye': (117, 153), 'nose': (108, 166), 'mouth_left': (94, 176), 'mouth_right': (111, 178)}}, {'box': [164, 125, 50, 64], 'confidence': 0.9915562868118286, 'keypoints': {'left_eye': (176, 154), 'right_eye': (199, 147), 'nose': (189, 165), 'mouth_left': (186, 178), 'mouth_right': (204, 172)}}, {'box': [14, 33, 53, 71], 'confidence': 0.9839335083961487, 'keypoints': {'left_eye': (32, 60), 'right_eye': (58, 59), 'nose': (48, 77), 'mouth_left': (35, 88), 'mouth_right': (53, 88)}}, {'box': [194, 15, 56, 71], 'confidence': 0.9761329293251038, 'keypoints': {'left_eye': (208, 48), 'right_eye': (232, 41), 'nose': (222, 62), 'mouth_left': (216, 73), 'mouth_right': (238, 67)}}, {'box': [105, 24, 46, 62], 'confidence': 0.9670405983924866, 'keypoints': {'left_eye': (117, 48), 'right_eye': (138, 47), 'nose': (127, 63), 'mouth_left': (119, 72), 'mouth_right': (138, 71)}}]\n"
     ]
    }
   ],
   "source": [
    "cv2.imshow('window',img)\n",
    "cv2.waitKey(0)\n",
    "print(output)"
   ]
  },
  {
   "cell_type": "code",
   "execution_count": 21,
   "id": "ffeed873",
   "metadata": {
    "scrolled": true
   },
   "outputs": [],
   "source": [
    "for i in output:\n",
    "    \n",
    "    x,y,width,height=i['box']\n",
    "    lefteyeX,lefteyeY=i['keypoints']['left_eye']\n",
    "    righteyeX,righteyeY=i['keypoints']['right_eye']\n",
    "    noseX,noseY=i['keypoints']['nose']\n",
    "    mouthleftX,mouthleftY=i['keypoints']['mouth_left']\n",
    "    mouthrightX,mouthrightY=i['keypoints']['mouth_right']\n",
    "\n",
    "    cv2.circle(img,center=(lefteyeX,lefteyeY),thickness=1,radius=5,color=(0,255,255))\n",
    "    cv2.circle(img,center=(righteyeX,righteyeY),thickness=1,radius=5,color=(0,255,255))\n",
    "    cv2.circle(img,center=(noseX,noseY),thickness=1,radius=5,color=(0,255,255))\n",
    "    cv2.circle(img,center=(mouthleftX,mouthleftY),thickness=1,radius=5,color=(0,255,255))\n",
    "    cv2.circle(img,center=(mouthrightX,mouthrightY),thickness=1,radius=5,color=(0,255,255))\n",
    "\n",
    "\n",
    "\n",
    "    \n",
    "    cv2.rectangle(img,pt1=(x,y),pt2=(x+width,y+height),color=(255,0,0),thickness=3)\n"
   ]
  },
  {
   "cell_type": "code",
   "execution_count": 22,
   "id": "e858e719",
   "metadata": {},
   "outputs": [
    {
     "name": "stdout",
     "output_type": "stream",
     "text": [
      "[{'box': [73, 125, 50, 67], 'confidence': 0.9989792108535767, 'keypoints': {'left_eye': (94, 151), 'right_eye': (117, 153), 'nose': (108, 166), 'mouth_left': (94, 176), 'mouth_right': (111, 178)}}, {'box': [164, 125, 50, 64], 'confidence': 0.9915562868118286, 'keypoints': {'left_eye': (176, 154), 'right_eye': (199, 147), 'nose': (189, 165), 'mouth_left': (186, 178), 'mouth_right': (204, 172)}}, {'box': [14, 33, 53, 71], 'confidence': 0.9839335083961487, 'keypoints': {'left_eye': (32, 60), 'right_eye': (58, 59), 'nose': (48, 77), 'mouth_left': (35, 88), 'mouth_right': (53, 88)}}, {'box': [194, 15, 56, 71], 'confidence': 0.9761329293251038, 'keypoints': {'left_eye': (208, 48), 'right_eye': (232, 41), 'nose': (222, 62), 'mouth_left': (216, 73), 'mouth_right': (238, 67)}}, {'box': [105, 24, 46, 62], 'confidence': 0.9670405983924866, 'keypoints': {'left_eye': (117, 48), 'right_eye': (138, 47), 'nose': (127, 63), 'mouth_left': (119, 72), 'mouth_right': (138, 71)}}]\n"
     ]
    }
   ],
   "source": [
    "cv2.imshow('window',img)\n",
    "cv2.waitKey(0)\n",
    "print(output)"
   ]
  },
  {
   "cell_type": "code",
   "execution_count": 8,
   "id": "40aea550",
   "metadata": {},
   "outputs": [],
   "source": [
    "lefteyeX,lefteyeY=output[0]['keypoints']['left_eye']\n",
    "righteyeX,righteyeY=output[0]['keypoints']['right_eye']\n",
    "noseX,noseY=output[0]['keypoints']['nose']\n",
    "mouthleftX,mouthleftY=output[0]['keypoints']['mouth_left']\n",
    "mouthrightX,mouthrightY=output[0]['keypoints']['mouth_right']\n"
   ]
  },
  {
   "cell_type": "code",
   "execution_count": 9,
   "id": "d3232fd8",
   "metadata": {
    "scrolled": true
   },
   "outputs": [
    {
     "data": {
      "text/plain": [
       "array([[[238, 228, 218],\n",
       "        [239, 229, 219],\n",
       "        [240, 230, 220],\n",
       "        ...,\n",
       "        [116, 111, 108],\n",
       "        [116, 111, 108],\n",
       "        [115, 110, 107]],\n",
       "\n",
       "       [[239, 229, 219],\n",
       "        [240, 230, 220],\n",
       "        [241, 231, 221],\n",
       "        ...,\n",
       "        [117, 112, 109],\n",
       "        [117, 112, 109],\n",
       "        [116, 111, 108]],\n",
       "\n",
       "       [[243, 231, 221],\n",
       "        [244, 232, 222],\n",
       "        [245, 233, 223],\n",
       "        ...,\n",
       "        [117, 112, 109],\n",
       "        [118, 113, 110],\n",
       "        [116, 111, 108]],\n",
       "\n",
       "       ...,\n",
       "\n",
       "       [[218, 210, 203],\n",
       "        [209, 200, 196],\n",
       "        [195, 188, 185],\n",
       "        ...,\n",
       "        [ 56,  51,  83],\n",
       "        [ 57,  49,  86],\n",
       "        [ 55,  48,  85]],\n",
       "\n",
       "       [[216, 207, 203],\n",
       "        [207, 198, 194],\n",
       "        [192, 185, 182],\n",
       "        ...,\n",
       "        [ 53,  48,  77],\n",
       "        [ 54,  45,  78],\n",
       "        [ 52,  45,  80]],\n",
       "\n",
       "       [[214, 205, 201],\n",
       "        [205, 196, 192],\n",
       "        [190, 183, 180],\n",
       "        ...,\n",
       "        [ 54,  46,  76],\n",
       "        [ 53,  45,  76],\n",
       "        [ 52,  43,  76]]], dtype=uint8)"
      ]
     },
     "execution_count": 9,
     "metadata": {},
     "output_type": "execute_result"
    }
   ],
   "source": [
    "cv2.circle(img,center=(lefteyeX,lefteyeY),thickness=1,radius=5,color=(0,255,255))\n",
    "cv2.circle(img,center=(righteyeX,righteyeY),thickness=1,radius=5,color=(0,255,255))\n",
    "cv2.circle(img,center=(noseX,noseY),thickness=1,radius=5,color=(0,255,255))\n",
    "cv2.circle(img,center=(mouthleftX,mouthleftY),thickness=1,radius=5,color=(0,255,255))\n",
    "cv2.circle(img,center=(mouthrightX,mouthrightY),thickness=1,radius=5,color=(0,255,255))\n"
   ]
  },
  {
   "cell_type": "code",
   "execution_count": null,
   "id": "24510e48",
   "metadata": {},
   "outputs": [],
   "source": []
  },
  {
   "cell_type": "code",
   "execution_count": null,
   "id": "faf6dcdd",
   "metadata": {},
   "outputs": [],
   "source": [
    "##\n",
    "# new img\n"
   ]
  },
  {
   "cell_type": "code",
   "execution_count": 11,
   "id": "f6469870",
   "metadata": {},
   "outputs": [
    {
     "data": {
      "text/plain": [
       "-1"
      ]
     },
     "execution_count": 11,
     "metadata": {},
     "output_type": "execute_result"
    }
   ],
   "source": [
    "img2=cv2.imread('images.jpg')\n",
    "cv2.imshow('window',img2)\n",
    "cv2.waitKey(0)"
   ]
  },
  {
   "cell_type": "code",
   "execution_count": 13,
   "id": "816762cf",
   "metadata": {},
   "outputs": [
    {
     "ename": "IndentationError",
     "evalue": "unexpected indent (3467551332.py, line 7)",
     "output_type": "error",
     "traceback": [
      "\u001b[1;36m  File \u001b[1;32m\"C:\\Users\\Rohit Yadav\\AppData\\Local\\Temp\\ipykernel_7784\\3467551332.py\"\u001b[1;36m, line \u001b[1;32m7\u001b[0m\n\u001b[1;33m    x,y,width,height=i['box']\u001b[0m\n\u001b[1;37m    ^\u001b[0m\n\u001b[1;31mIndentationError\u001b[0m\u001b[1;31m:\u001b[0m unexpected indent\n"
     ]
    }
   ],
   "source": [
    "cv2.imshow('window',img2)\n",
    "cv2.waitKey(0)\n",
    "print(output)\n",
    "\n",
    "# for i in output:\n",
    "\n",
    "        x,y,width,height=i['box']\n",
    "        cv2.rectangle(img,pt1=(x,y),pt2=(x+width,y+height),color=(255,0,0),thickness=3)\n",
    "\n",
    "\n",
    "\n",
    "        lefteyeX,lefteyeY=i['keypoints']['left_eye']\n",
    "        righteyeX,righteyeY=i['keypoints']['right_eye']\n",
    "        noseX,noseY=i['keypoints']['nose']\n",
    "        mouthleftX,mouthleftY=i['keypoints']['mouth_left']\n",
    "        mouthrightX,mouthrightY=i['keypoints']['mouth_right']\n",
    "\n",
    "\n",
    "\n",
    "        cv2.circle(img,center=(lefteyeX,lefteyeY),thickness=1,radius=5,color=(0,255,255))\n",
    "        cv2.circle(img,center=(righteyeX,righteyeY),thickness=1,radius=5,color=(0,255,255))\n",
    "        cv2.circle(img,center=(noseX,noseY),thickness=1,radius=5,color=(0,255,255))\n",
    "        cv2.circle(img,center=(mouthleftX,mouthleftY),thickness=1,radius=5,color=(0,255,255))\n",
    "        cv2.circle(img,center=(mouthrightX,mouthrightY),thickness=1,radius=5,color=(0,255,255))\n",
    "\n",
    "        \n",
    "        \n",
    "        cv2.imshow('window',img2)\n",
    "        cv2.waitKey(0)\n",
    "        print(output)"
   ]
  }
 ],
 "metadata": {
  "kernelspec": {
   "display_name": "Python 3 (ipykernel)",
   "language": "python",
   "name": "python3"
  },
  "language_info": {
   "codemirror_mode": {
    "name": "ipython",
    "version": 3
   },
   "file_extension": ".py",
   "mimetype": "text/x-python",
   "name": "python",
   "nbconvert_exporter": "python",
   "pygments_lexer": "ipython3",
   "version": "3.9.13"
  }
 },
 "nbformat": 4,
 "nbformat_minor": 5
}
