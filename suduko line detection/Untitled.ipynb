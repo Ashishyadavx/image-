{
 "cells": [
  {
   "cell_type": "code",
   "execution_count": 13,
   "id": "1dd3dc19",
   "metadata": {},
   "outputs": [],
   "source": [
    "import cv2\n",
    "import numpy as np\n",
    "img=cv2.imread('suduko.jpg')\n",
    "gray=cv2.cvtColor(img,cv2.COLOR_BGR2GRAY)\n",
    "edges=cv2.Canny(gray,50,150,apertureSize=3)\n",
    "lines=cv2.HoughLines(edges,1,np.pi/180,200)"
   ]
  },
  {
   "cell_type": "code",
   "execution_count": 16,
   "id": "8152cb6d",
   "metadata": {},
   "outputs": [],
   "source": [
    "for line in lines:\n",
    "    rho,theta=line[0]\n",
    "    a=np.cos(theta)\n",
    "    b=np.sin(theta)\n",
    "    xo= a*rho\n",
    "    yo=b*rho\n",
    "    \n",
    "    x1=int(xo+1000*(-b))\n",
    "    y1=int(yo+1000*(a))\n",
    "    x2=int(xo-1000*(-b))\n",
    "    y2=int(yo-1000*(a))\n",
    "    \n",
    "    \n",
    "    cv2.line(img,(x1,y1),(x2,y2),(255,0,0),3)"
   ]
  },
  {
   "cell_type": "code",
   "execution_count": 17,
   "id": "f47811b6",
   "metadata": {},
   "outputs": [],
   "source": [
    "cv2.imshow('window',img)\n",
    "cv2.waitKey(0)\n",
    "cv2.destroyAllWindows()"
   ]
  },
  {
   "cell_type": "code",
   "execution_count": null,
   "id": "9d69c665",
   "metadata": {},
   "outputs": [],
   "source": []
  },
  {
   "cell_type": "code",
   "execution_count": null,
   "id": "6acfa34e",
   "metadata": {},
   "outputs": [],
   "source": []
  }
 ],
 "metadata": {
  "kernelspec": {
   "display_name": "Python 3 (ipykernel)",
   "language": "python",
   "name": "python3"
  },
  "language_info": {
   "codemirror_mode": {
    "name": "ipython",
    "version": 3
   },
   "file_extension": ".py",
   "mimetype": "text/x-python",
   "name": "python",
   "nbconvert_exporter": "python",
   "pygments_lexer": "ipython3",
   "version": "3.9.13"
  }
 },
 "nbformat": 4,
 "nbformat_minor": 5
}
